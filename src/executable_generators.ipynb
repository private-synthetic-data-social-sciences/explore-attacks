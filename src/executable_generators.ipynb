{
 "cells": [
  {
   "attachments": {},
   "cell_type": "markdown",
   "metadata": {},
   "source": [
    "Try to build a very simple generator executable that works with the tapas library"
   ]
  },
  {
   "cell_type": "code",
   "execution_count": 1,
   "metadata": {},
   "outputs": [],
   "source": [
    "import warnings\n",
    "warnings.simplefilter(action='ignore', category=FutureWarning)\n",
    "    # this line: https://github.com/alan-turing-institute/privacy-sdg-toolbox/blob/ebe3e94bc08f91290e809d4cadd2cfd72d9ea561/tapas/datasets/utils.py#L157\n",
    "    # creates some FutureWarnings when running the notebook. Ignoring for now\n",
    "\n",
    "\n",
    "import tapas.datasets\n",
    "import tapas.generators\n",
    "import numpy as np \n",
    "import pandas as pd"
   ]
  },
  {
   "attachments": {},
   "cell_type": "markdown",
   "metadata": {},
   "source": [
    "first we need to create an instance of the TabularDataset class"
   ]
  },
  {
   "cell_type": "code",
   "execution_count": 2,
   "metadata": {},
   "outputs": [],
   "source": [
    "def create_data(n=2000):\n",
    "    \"Create dataframe and schema as input for TabularDataset\"\n",
    "    rng = np.random.default_rng(3)\n",
    "    wage = rng.random(n)\n",
    "    identifier = np.arange(n)\n",
    "    raw_data = np.stack([identifier, wage], axis=1)\n",
    "    df = pd.DataFrame(raw_data, columns=[\"id\", \"wage\"])\n",
    "    df[\"id\"] = df[\"id\"].astype(int)\n",
    "\n",
    "    schema = [\n",
    "        {\"name\": \"id\", \"type\": \"finite\", \"representation\": df[\"id\"].unique()},\n",
    "        {\"name\": \"wage\", \"type\": \"finite\", \"representation\": df[\"wage\"].unique()}\n",
    "    ]\n",
    "    return df, schema"
   ]
  },
  {
   "cell_type": "code",
   "execution_count": null,
   "metadata": {},
   "outputs": [],
   "source": []
  },
  {
   "cell_type": "code",
   "execution_count": 3,
   "metadata": {},
   "outputs": [],
   "source": [
    "df_data, data_schema = create_data()\n",
    "data_description = tapas.datasets.DataDescription(schema=data_schema)\n",
    "data = tapas.datasets.TabularDataset(data=df_data, description=data_description)"
   ]
  },
  {
   "cell_type": "code",
   "execution_count": 4,
   "metadata": {},
   "outputs": [
    {
     "data": {
      "text/html": [
       "<div>\n",
       "<style scoped>\n",
       "    .dataframe tbody tr th:only-of-type {\n",
       "        vertical-align: middle;\n",
       "    }\n",
       "\n",
       "    .dataframe tbody tr th {\n",
       "        vertical-align: top;\n",
       "    }\n",
       "\n",
       "    .dataframe thead th {\n",
       "        text-align: right;\n",
       "    }\n",
       "</style>\n",
       "<table border=\"1\" class=\"dataframe\">\n",
       "  <thead>\n",
       "    <tr style=\"text-align: right;\">\n",
       "      <th></th>\n",
       "      <th>id</th>\n",
       "      <th>wage</th>\n",
       "    </tr>\n",
       "  </thead>\n",
       "  <tbody>\n",
       "    <tr>\n",
       "      <th>0</th>\n",
       "      <td>0</td>\n",
       "      <td>0.085649</td>\n",
       "    </tr>\n",
       "    <tr>\n",
       "      <th>1</th>\n",
       "      <td>1</td>\n",
       "      <td>0.236811</td>\n",
       "    </tr>\n",
       "    <tr>\n",
       "      <th>2</th>\n",
       "      <td>2</td>\n",
       "      <td>0.801274</td>\n",
       "    </tr>\n",
       "    <tr>\n",
       "      <th>3</th>\n",
       "      <td>3</td>\n",
       "      <td>0.582162</td>\n",
       "    </tr>\n",
       "    <tr>\n",
       "      <th>4</th>\n",
       "      <td>4</td>\n",
       "      <td>0.094129</td>\n",
       "    </tr>\n",
       "  </tbody>\n",
       "</table>\n",
       "</div>"
      ],
      "text/plain": [
       "   id      wage\n",
       "0   0  0.085649\n",
       "1   1  0.236811\n",
       "2   2  0.801274\n",
       "3   3  0.582162\n",
       "4   4  0.094129"
      ]
     },
     "execution_count": 4,
     "metadata": {},
     "output_type": "execute_result"
    }
   ],
   "source": [
    "data.data.head()"
   ]
  },
  {
   "attachments": {},
   "cell_type": "markdown",
   "metadata": {},
   "source": [
    "this is our \"original\" dataset; now we want to load a generator that takes the original dataset and returns synthetic data based on it (?)"
   ]
  },
  {
   "attachments": {},
   "cell_type": "markdown",
   "metadata": {},
   "source": [
    "## The generator\n",
    "\n",
    "We make a generator in the file `src/myexecutable.py`, and need to make it executable with `chmod +x src/myexecutable.py`. \n",
    "Key features of the generator:\n",
    "- it has the same structure as the original data set \n",
    "- it prints out the generated data set to the console, and the console output is read back into the python by tapas \n",
    "\n",
    "\n",
    "Then we can instantiate the generator."
   ]
  },
  {
   "cell_type": "code",
   "execution_count": 5,
   "metadata": {},
   "outputs": [],
   "source": [
    "generator = tapas.generators.GeneratorFromExecutable(exe=\"src/myexecutable.py\")"
   ]
  },
  {
   "cell_type": "code",
   "execution_count": 6,
   "metadata": {},
   "outputs": [],
   "source": [
    "generator.fit(data)"
   ]
  },
  {
   "cell_type": "code",
   "execution_count": 7,
   "metadata": {},
   "outputs": [],
   "source": [
    "synthetic_data = generator.generate(3)"
   ]
  },
  {
   "cell_type": "code",
   "execution_count": 8,
   "metadata": {},
   "outputs": [
    {
     "data": {
      "text/html": [
       "<div>\n",
       "<style scoped>\n",
       "    .dataframe tbody tr th:only-of-type {\n",
       "        vertical-align: middle;\n",
       "    }\n",
       "\n",
       "    .dataframe tbody tr th {\n",
       "        vertical-align: top;\n",
       "    }\n",
       "\n",
       "    .dataframe thead th {\n",
       "        text-align: right;\n",
       "    }\n",
       "</style>\n",
       "<table border=\"1\" class=\"dataframe\">\n",
       "  <thead>\n",
       "    <tr style=\"text-align: right;\">\n",
       "      <th></th>\n",
       "      <th>id</th>\n",
       "      <th>wage</th>\n",
       "    </tr>\n",
       "  </thead>\n",
       "  <tbody>\n",
       "    <tr>\n",
       "      <th>0</th>\n",
       "      <td>0.0</td>\n",
       "      <td>0.682352</td>\n",
       "    </tr>\n",
       "    <tr>\n",
       "      <th>1</th>\n",
       "      <td>1.0</td>\n",
       "      <td>0.053821</td>\n",
       "    </tr>\n",
       "    <tr>\n",
       "      <th>2</th>\n",
       "      <td>2.0</td>\n",
       "      <td>0.220360</td>\n",
       "    </tr>\n",
       "  </tbody>\n",
       "</table>\n",
       "</div>"
      ],
      "text/plain": [
       "    id      wage\n",
       "0  0.0  0.682352\n",
       "1  1.0  0.053821\n",
       "2  2.0  0.220360"
      ]
     },
     "execution_count": 8,
     "metadata": {},
     "output_type": "execute_result"
    }
   ],
   "source": [
    "synthetic_data.data.head()"
   ]
  },
  {
   "attachments": {},
   "cell_type": "markdown",
   "metadata": {},
   "source": [
    "### Now let's try to run an attack on this model"
   ]
  },
  {
   "cell_type": "code",
   "execution_count": 9,
   "metadata": {},
   "outputs": [],
   "source": [
    "import tapas.datasets\n",
    "import tapas.generators\n",
    "import tapas.threat_models\n",
    "import tapas.attacks\n",
    "import tapas.report"
   ]
  },
  {
   "cell_type": "code",
   "execution_count": 10,
   "metadata": {},
   "outputs": [],
   "source": [
    "df_data, data_schema = create_data(100000)\n",
    "data_description = tapas.datasets.DataDescription(schema=data_schema)\n",
    "data = tapas.datasets.TabularDataset(data=df_data, description=data_description)"
   ]
  },
  {
   "cell_type": "code",
   "execution_count": 11,
   "metadata": {},
   "outputs": [],
   "source": [
    "generator = tapas.generators.GeneratorFromExecutable(exe=\"src/myexecutable.py\")"
   ]
  },
  {
   "cell_type": "code",
   "execution_count": 12,
   "metadata": {},
   "outputs": [],
   "source": [
    "data_knowledge = tapas.threat_models.AuxiliaryDataKnowledge(\n",
    "      data,\n",
    "      auxiliary_split=0.5,\n",
    "      num_training_records=5000\n",
    ")"
   ]
  },
  {
   "cell_type": "code",
   "execution_count": 13,
   "metadata": {},
   "outputs": [],
   "source": [
    "sdg_knowledge = tapas.threat_models.BlackBoxKnowledge(\n",
    "    generator,\n",
    "    num_synthetic_records=5000,\n",
    ")"
   ]
  },
  {
   "cell_type": "code",
   "execution_count": 14,
   "metadata": {},
   "outputs": [],
   "source": [
    "threat_model = tapas.threat_models.TargetedMIA(\n",
    "   attacker_knowledge_data=data_knowledge,\n",
    "   target_record=data.get_records([0]),\n",
    "   attacker_knowledge_generator=sdg_knowledge,\n",
    "   generate_pairs=True,\n",
    "   replace_target=True\n",
    ")"
   ]
  },
  {
   "cell_type": "code",
   "execution_count": 15,
   "metadata": {},
   "outputs": [],
   "source": [
    "attacker = tapas.attacks.GroundhogAttack()"
   ]
  },
  {
   "cell_type": "code",
   "execution_count": 16,
   "metadata": {},
   "outputs": [
    {
     "ename": "AttributeError",
     "evalue": "'numpy.ndarray' object has no attribute 'index'",
     "output_type": "error",
     "traceback": [
      "\u001b[0;31m---------------------------------------------------------------------------\u001b[0m",
      "\u001b[0;31mAttributeError\u001b[0m                            Traceback (most recent call last)",
      "Cell \u001b[0;32mIn[16], line 1\u001b[0m\n\u001b[0;32m----> 1\u001b[0m attacker\u001b[39m.\u001b[39;49mtrain(threat_model, num_samples\u001b[39m=\u001b[39;49m\u001b[39m5\u001b[39;49m)\n",
      "File \u001b[0;32m~/repositories/projects/GANS/explore-attacks/.venv/lib/python3.9/site-packages/tapas/attacks/shadow_modelling.py:87\u001b[0m, in \u001b[0;36mShadowModellingAttack.train\u001b[0;34m(self, threat_model, num_samples)\u001b[0m\n\u001b[1;32m     84\u001b[0m synthetic_datasets, labels \u001b[39m=\u001b[39m threat_model\u001b[39m.\u001b[39mgenerate_training_samples(num_samples)\n\u001b[1;32m     86\u001b[0m \u001b[39m# Fit the classifier to the data.\u001b[39;00m\n\u001b[0;32m---> 87\u001b[0m \u001b[39mself\u001b[39;49m\u001b[39m.\u001b[39;49mclassifier\u001b[39m.\u001b[39;49mfit(synthetic_datasets, labels)\n\u001b[1;32m     88\u001b[0m \u001b[39mself\u001b[39m\u001b[39m.\u001b[39mtrained \u001b[39m=\u001b[39m \u001b[39mTrue\u001b[39;00m\n",
      "File \u001b[0;32m~/repositories/projects/GANS/explore-attacks/.venv/lib/python3.9/site-packages/tapas/attacks/set_classifiers.py:144\u001b[0m, in \u001b[0;36mFeatureBasedSetClassifier.fit\u001b[0;34m(self, datasets, labels)\u001b[0m\n\u001b[1;32m    143\u001b[0m \u001b[39mdef\u001b[39;00m \u001b[39mfit\u001b[39m(\u001b[39mself\u001b[39m, datasets: \u001b[39mlist\u001b[39m[Dataset], labels: \u001b[39mlist\u001b[39m[\u001b[39mint\u001b[39m]):\n\u001b[0;32m--> 144\u001b[0m     \u001b[39mself\u001b[39m\u001b[39m.\u001b[39mclassifier\u001b[39m.\u001b[39mfit(\u001b[39mself\u001b[39;49m\u001b[39m.\u001b[39;49mfeatures(datasets), labels)\n",
      "File \u001b[0;32m~/repositories/projects/GANS/explore-attacks/.venv/lib/python3.9/site-packages/tapas/attacks/set_classifiers.py:85\u001b[0m, in \u001b[0;36mSetFeature.__call__\u001b[0;34m(self, *args, **kwargs)\u001b[0m\n\u001b[1;32m     84\u001b[0m \u001b[39mdef\u001b[39;00m \u001b[39m__call__\u001b[39m(\u001b[39mself\u001b[39m, \u001b[39m*\u001b[39margs, \u001b[39m*\u001b[39m\u001b[39m*\u001b[39mkwargs):\n\u001b[0;32m---> 85\u001b[0m     \u001b[39mreturn\u001b[39;00m \u001b[39mself\u001b[39;49m\u001b[39m.\u001b[39;49mextract(\u001b[39m*\u001b[39;49margs, \u001b[39m*\u001b[39;49m\u001b[39m*\u001b[39;49mkwargs)\n",
      "File \u001b[0;32m~/repositories/projects/GANS/explore-attacks/.venv/lib/python3.9/site-packages/tapas/attacks/set_classifiers.py:108\u001b[0m, in \u001b[0;36mCombinedSetFeatures.extract\u001b[0;34m(self, dataset)\u001b[0m\n\u001b[1;32m    107\u001b[0m \u001b[39mdef\u001b[39;00m \u001b[39mextract\u001b[39m(\u001b[39mself\u001b[39m, dataset: Dataset) \u001b[39m-\u001b[39m\u001b[39m>\u001b[39m np\u001b[39m.\u001b[39marray:\n\u001b[0;32m--> 108\u001b[0m     \u001b[39mreturn\u001b[39;00m np\u001b[39m.\u001b[39mconcatenate([f\u001b[39m.\u001b[39mextract(dataset) \u001b[39mfor\u001b[39;00m f \u001b[39min\u001b[39;00m \u001b[39mself\u001b[39m\u001b[39m.\u001b[39mfeatures], axis\u001b[39m=\u001b[39m\u001b[39m1\u001b[39m)\n",
      "File \u001b[0;32m~/repositories/projects/GANS/explore-attacks/.venv/lib/python3.9/site-packages/tapas/attacks/set_classifiers.py:108\u001b[0m, in \u001b[0;36m<listcomp>\u001b[0;34m(.0)\u001b[0m\n\u001b[1;32m    107\u001b[0m \u001b[39mdef\u001b[39;00m \u001b[39mextract\u001b[39m(\u001b[39mself\u001b[39m, dataset: Dataset) \u001b[39m-\u001b[39m\u001b[39m>\u001b[39m np\u001b[39m.\u001b[39marray:\n\u001b[0;32m--> 108\u001b[0m     \u001b[39mreturn\u001b[39;00m np\u001b[39m.\u001b[39mconcatenate([f\u001b[39m.\u001b[39;49mextract(dataset) \u001b[39mfor\u001b[39;00m f \u001b[39min\u001b[39;00m \u001b[39mself\u001b[39m\u001b[39m.\u001b[39mfeatures], axis\u001b[39m=\u001b[39m\u001b[39m1\u001b[39m)\n",
      "File \u001b[0;32m~/repositories/projects/GANS/explore-attacks/.venv/lib/python3.9/site-packages/tapas/attacks/set_classifiers.py:108\u001b[0m, in \u001b[0;36mCombinedSetFeatures.extract\u001b[0;34m(self, dataset)\u001b[0m\n\u001b[1;32m    107\u001b[0m \u001b[39mdef\u001b[39;00m \u001b[39mextract\u001b[39m(\u001b[39mself\u001b[39m, dataset: Dataset) \u001b[39m-\u001b[39m\u001b[39m>\u001b[39m np\u001b[39m.\u001b[39marray:\n\u001b[0;32m--> 108\u001b[0m     \u001b[39mreturn\u001b[39;00m np\u001b[39m.\u001b[39mconcatenate([f\u001b[39m.\u001b[39mextract(dataset) \u001b[39mfor\u001b[39;00m f \u001b[39min\u001b[39;00m \u001b[39mself\u001b[39m\u001b[39m.\u001b[39mfeatures], axis\u001b[39m=\u001b[39m\u001b[39m1\u001b[39m)\n",
      "File \u001b[0;32m~/repositories/projects/GANS/explore-attacks/.venv/lib/python3.9/site-packages/tapas/attacks/set_classifiers.py:108\u001b[0m, in \u001b[0;36m<listcomp>\u001b[0;34m(.0)\u001b[0m\n\u001b[1;32m    107\u001b[0m \u001b[39mdef\u001b[39;00m \u001b[39mextract\u001b[39m(\u001b[39mself\u001b[39m, dataset: Dataset) \u001b[39m-\u001b[39m\u001b[39m>\u001b[39m np\u001b[39m.\u001b[39marray:\n\u001b[0;32m--> 108\u001b[0m     \u001b[39mreturn\u001b[39;00m np\u001b[39m.\u001b[39mconcatenate([f\u001b[39m.\u001b[39;49mextract(dataset) \u001b[39mfor\u001b[39;00m f \u001b[39min\u001b[39;00m \u001b[39mself\u001b[39m\u001b[39m.\u001b[39mfeatures], axis\u001b[39m=\u001b[39m\u001b[39m1\u001b[39m)\n",
      "File \u001b[0;32m~/repositories/projects/GANS/explore-attacks/.venv/lib/python3.9/site-packages/tapas/attacks/set_classifiers.py:174\u001b[0m, in \u001b[0;36mNaiveSetFeature.extract\u001b[0;34m(self, datasets)\u001b[0m\n\u001b[1;32m    173\u001b[0m \u001b[39mdef\u001b[39;00m \u001b[39mextract\u001b[39m(\u001b[39mself\u001b[39m, datasets: \u001b[39mlist\u001b[39m[TabularDataset]) \u001b[39m-\u001b[39m\u001b[39m>\u001b[39m np\u001b[39m.\u001b[39marray:\n\u001b[0;32m--> 174\u001b[0m     np_data \u001b[39m=\u001b[39m [dataset\u001b[39m.\u001b[39mas_numeric \u001b[39mfor\u001b[39;00m dataset \u001b[39min\u001b[39;00m datasets]\n\u001b[1;32m    175\u001b[0m     \u001b[39mreturn\u001b[39;00m np\u001b[39m.\u001b[39mstack(\n\u001b[1;32m    176\u001b[0m         [\n\u001b[1;32m    177\u001b[0m             np\u001b[39m.\u001b[39mconcatenate(\n\u001b[0;32m   (...)\u001b[0m\n\u001b[1;32m    185\u001b[0m         ]\n\u001b[1;32m    186\u001b[0m     )\n",
      "File \u001b[0;32m~/repositories/projects/GANS/explore-attacks/.venv/lib/python3.9/site-packages/tapas/attacks/set_classifiers.py:174\u001b[0m, in \u001b[0;36m<listcomp>\u001b[0;34m(.0)\u001b[0m\n\u001b[1;32m    173\u001b[0m \u001b[39mdef\u001b[39;00m \u001b[39mextract\u001b[39m(\u001b[39mself\u001b[39m, datasets: \u001b[39mlist\u001b[39m[TabularDataset]) \u001b[39m-\u001b[39m\u001b[39m>\u001b[39m np\u001b[39m.\u001b[39marray:\n\u001b[0;32m--> 174\u001b[0m     np_data \u001b[39m=\u001b[39m [dataset\u001b[39m.\u001b[39;49mas_numeric \u001b[39mfor\u001b[39;00m dataset \u001b[39min\u001b[39;00m datasets]\n\u001b[1;32m    175\u001b[0m     \u001b[39mreturn\u001b[39;00m np\u001b[39m.\u001b[39mstack(\n\u001b[1;32m    176\u001b[0m         [\n\u001b[1;32m    177\u001b[0m             np\u001b[39m.\u001b[39mconcatenate(\n\u001b[0;32m   (...)\u001b[0m\n\u001b[1;32m    185\u001b[0m         ]\n\u001b[1;32m    186\u001b[0m     )\n",
      "File \u001b[0;32m~/repositories/projects/GANS/explore-attacks/.venv/lib/python3.9/site-packages/tapas/datasets/dataset.py:558\u001b[0m, in \u001b[0;36mTabularDataset.as_numeric\u001b[0;34m(self)\u001b[0m\n\u001b[1;32m    542\u001b[0m \u001b[39m@property\u001b[39m\n\u001b[1;32m    543\u001b[0m \u001b[39mdef\u001b[39;00m \u001b[39mas_numeric\u001b[39m(\u001b[39mself\u001b[39m):\n\u001b[1;32m    544\u001b[0m \u001b[39m    \u001b[39m\u001b[39m\"\"\"\u001b[39;00m\n\u001b[1;32m    545\u001b[0m \u001b[39m    Encodes this dataset as a np.array, where numeric values are kept as is\u001b[39;00m\n\u001b[1;32m    546\u001b[0m \u001b[39m    and categorical values are 1-hot encoded. This is only computed once\u001b[39;00m\n\u001b[0;32m   (...)\u001b[0m\n\u001b[1;32m    556\u001b[0m \n\u001b[1;32m    557\u001b[0m \u001b[39m    \"\"\"\u001b[39;00m\n\u001b[0;32m--> 558\u001b[0m     \u001b[39mreturn\u001b[39;00m encode_data(\u001b[39mself\u001b[39;49m)\n",
      "File \u001b[0;32m~/repositories/projects/GANS/explore-attacks/.venv/lib/python3.9/site-packages/tapas/datasets/utils.py:79\u001b[0m, in \u001b[0;36mencode_data\u001b[0;34m(dataset, infer_ranges)\u001b[0m\n\u001b[1;32m     76\u001b[0m \u001b[39melse\u001b[39;00m:\n\u001b[1;32m     77\u001b[0m     col_cats \u001b[39m=\u001b[39m d_repr\n\u001b[0;32m---> 79\u001b[0m col_data_onehot \u001b[39m=\u001b[39m one_hot(col_data, col_cats)\n\u001b[1;32m     80\u001b[0m encoded_data[:, cidx : cidx \u001b[39m+\u001b[39m \u001b[39mlen\u001b[39m(col_cats)] \u001b[39m=\u001b[39m col_data_onehot\n\u001b[1;32m     82\u001b[0m cidx \u001b[39m+\u001b[39m\u001b[39m=\u001b[39m \u001b[39mlen\u001b[39m(col_cats)\n",
      "File \u001b[0;32m~/repositories/projects/GANS/explore-attacks/.venv/lib/python3.9/site-packages/tapas/datasets/utils.py:101\u001b[0m, in \u001b[0;36mone_hot\u001b[0;34m(col_data, categories)\u001b[0m\n\u001b[1;32m     99\u001b[0m \u001b[39mdef\u001b[39;00m \u001b[39mone_hot\u001b[39m(col_data, categories):\n\u001b[1;32m    100\u001b[0m     col_data_onehot \u001b[39m=\u001b[39m np\u001b[39m.\u001b[39mzeros((\u001b[39mlen\u001b[39m(col_data), \u001b[39mlen\u001b[39m(categories)))\n\u001b[0;32m--> 101\u001b[0m     cidx \u001b[39m=\u001b[39m [categories\u001b[39m.\u001b[39mindex(c) \u001b[39mfor\u001b[39;00m c \u001b[39min\u001b[39;00m col_data]\n\u001b[1;32m    102\u001b[0m     col_data_onehot[np\u001b[39m.\u001b[39marange(\u001b[39mlen\u001b[39m(col_data)), cidx] \u001b[39m=\u001b[39m \u001b[39m1\u001b[39m\n\u001b[1;32m    104\u001b[0m     \u001b[39mreturn\u001b[39;00m col_data_onehot\n",
      "File \u001b[0;32m~/repositories/projects/GANS/explore-attacks/.venv/lib/python3.9/site-packages/tapas/datasets/utils.py:101\u001b[0m, in \u001b[0;36m<listcomp>\u001b[0;34m(.0)\u001b[0m\n\u001b[1;32m     99\u001b[0m \u001b[39mdef\u001b[39;00m \u001b[39mone_hot\u001b[39m(col_data, categories):\n\u001b[1;32m    100\u001b[0m     col_data_onehot \u001b[39m=\u001b[39m np\u001b[39m.\u001b[39mzeros((\u001b[39mlen\u001b[39m(col_data), \u001b[39mlen\u001b[39m(categories)))\n\u001b[0;32m--> 101\u001b[0m     cidx \u001b[39m=\u001b[39m [categories\u001b[39m.\u001b[39;49mindex(c) \u001b[39mfor\u001b[39;00m c \u001b[39min\u001b[39;00m col_data]\n\u001b[1;32m    102\u001b[0m     col_data_onehot[np\u001b[39m.\u001b[39marange(\u001b[39mlen\u001b[39m(col_data)), cidx] \u001b[39m=\u001b[39m \u001b[39m1\u001b[39m\n\u001b[1;32m    104\u001b[0m     \u001b[39mreturn\u001b[39;00m col_data_onehot\n",
      "\u001b[0;31mAttributeError\u001b[0m: 'numpy.ndarray' object has no attribute 'index'"
     ]
    }
   ],
   "source": [
    "attacker.train(threat_model, num_samples=5)"
   ]
  },
  {
   "cell_type": "code",
   "execution_count": null,
   "metadata": {},
   "outputs": [],
   "source": []
  },
  {
   "attachments": {},
   "cell_type": "markdown",
   "metadata": {},
   "source": [
    "#### Try another attack: ClosestDistanceMIA"
   ]
  },
  {
   "cell_type": "code",
   "execution_count": 20,
   "metadata": {},
   "outputs": [],
   "source": [
    "attacker = tapas.attacks.ClosestDistanceMIA()\n",
    "threat_model = tapas.threat_models.TargetedMIA(\n",
    "   attacker_knowledge_data=data_knowledge,\n",
    "   target_record=data.get_records([3]),\n",
    "   attacker_knowledge_generator=sdg_knowledge,\n",
    "   generate_pairs=True,\n",
    "   replace_target=True\n",
    ")"
   ]
  },
  {
   "cell_type": "code",
   "execution_count": 21,
   "metadata": {},
   "outputs": [],
   "source": [
    "attacker.train(threat_model, num_samples=10)"
   ]
  },
  {
   "cell_type": "code",
   "execution_count": 22,
   "metadata": {},
   "outputs": [
    {
     "data": {
      "text/plain": [
       "array([-2.])"
      ]
     },
     "execution_count": 22,
     "metadata": {},
     "output_type": "execute_result"
    }
   ],
   "source": [
    "attacker.attack_score([generator.generate(3)]) # what does the output mean?"
   ]
  },
  {
   "cell_type": "code",
   "execution_count": null,
   "metadata": {},
   "outputs": [],
   "source": []
  }
 ],
 "metadata": {
  "kernelspec": {
   "display_name": ".venv",
   "language": "python",
   "name": "python3"
  },
  "language_info": {
   "codemirror_mode": {
    "name": "ipython",
    "version": 3
   },
   "file_extension": ".py",
   "mimetype": "text/x-python",
   "name": "python",
   "nbconvert_exporter": "python",
   "pygments_lexer": "ipython3",
   "version": "3.9.5"
  },
  "orig_nbformat": 4
 },
 "nbformat": 4,
 "nbformat_minor": 2
}
