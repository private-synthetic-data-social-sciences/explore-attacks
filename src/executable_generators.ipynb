{
 "cells": [
  {
   "attachments": {},
   "cell_type": "markdown",
   "metadata": {},
   "source": [
    "Try to build a very simple generator executable that works with the tapas library"
   ]
  },
  {
   "cell_type": "code",
   "execution_count": 1,
   "metadata": {},
   "outputs": [],
   "source": [
    "import warnings\n",
    "warnings.simplefilter(action='ignore', category=FutureWarning)\n",
    "    # this line: https://github.com/alan-turing-institute/privacy-sdg-toolbox/blob/ebe3e94bc08f91290e809d4cadd2cfd72d9ea561/tapas/datasets/utils.py#L157\n",
    "    # creates some FutureWarnings when running the notebook. Ignoring for now\n",
    "\n",
    "\n",
    "import tapas.datasets\n",
    "import tapas.generators\n",
    "import numpy as np \n",
    "import pandas as pd"
   ]
  },
  {
   "attachments": {},
   "cell_type": "markdown",
   "metadata": {},
   "source": [
    "first we need to create an instance of the TabularDataset class"
   ]
  },
  {
   "cell_type": "code",
   "execution_count": 2,
   "metadata": {},
   "outputs": [],
   "source": [
    "def create_data(n=2000):\n",
    "    \"Create dataframe and schema as input for TabularDataset\"\n",
    "    rng = np.random.default_rng(3)\n",
    "    wage = rng.random(n)\n",
    "    identifier = np.arange(n)\n",
    "    raw_data = np.stack([identifier, wage], axis=1)\n",
    "    df = pd.DataFrame(raw_data, columns=[\"id\", \"wage\"])\n",
    "    df[\"id\"] = df[\"id\"].astype(int)\n",
    "\n",
    "    schema = [\n",
    "        {\"name\": \"id\", \"type\": \"finite\", \"representation\": df[\"id\"].unique()},\n",
    "        {\"name\": \"wage\", \"type\": \"finite\", \"representation\": df[\"wage\"].unique()}\n",
    "    ]\n",
    "    return df, schema"
   ]
  },
  {
   "cell_type": "code",
   "execution_count": null,
   "metadata": {},
   "outputs": [],
   "source": []
  },
  {
   "cell_type": "code",
   "execution_count": 3,
   "metadata": {},
   "outputs": [],
   "source": [
    "df_data, data_schema = create_data()\n",
    "data_description = tapas.datasets.DataDescription(schema=data_schema)\n",
    "data = tapas.datasets.TabularDataset(data=df_data, description=data_description)"
   ]
  },
  {
   "cell_type": "code",
   "execution_count": 4,
   "metadata": {},
   "outputs": [
    {
     "data": {
      "text/html": [
       "<div>\n",
       "<style scoped>\n",
       "    .dataframe tbody tr th:only-of-type {\n",
       "        vertical-align: middle;\n",
       "    }\n",
       "\n",
       "    .dataframe tbody tr th {\n",
       "        vertical-align: top;\n",
       "    }\n",
       "\n",
       "    .dataframe thead th {\n",
       "        text-align: right;\n",
       "    }\n",
       "</style>\n",
       "<table border=\"1\" class=\"dataframe\">\n",
       "  <thead>\n",
       "    <tr style=\"text-align: right;\">\n",
       "      <th></th>\n",
       "      <th>id</th>\n",
       "      <th>wage</th>\n",
       "    </tr>\n",
       "  </thead>\n",
       "  <tbody>\n",
       "    <tr>\n",
       "      <th>0</th>\n",
       "      <td>0</td>\n",
       "      <td>0.085649</td>\n",
       "    </tr>\n",
       "    <tr>\n",
       "      <th>1</th>\n",
       "      <td>1</td>\n",
       "      <td>0.236811</td>\n",
       "    </tr>\n",
       "    <tr>\n",
       "      <th>2</th>\n",
       "      <td>2</td>\n",
       "      <td>0.801274</td>\n",
       "    </tr>\n",
       "    <tr>\n",
       "      <th>3</th>\n",
       "      <td>3</td>\n",
       "      <td>0.582162</td>\n",
       "    </tr>\n",
       "    <tr>\n",
       "      <th>4</th>\n",
       "      <td>4</td>\n",
       "      <td>0.094129</td>\n",
       "    </tr>\n",
       "  </tbody>\n",
       "</table>\n",
       "</div>"
      ],
      "text/plain": [
       "   id      wage\n",
       "0   0  0.085649\n",
       "1   1  0.236811\n",
       "2   2  0.801274\n",
       "3   3  0.582162\n",
       "4   4  0.094129"
      ]
     },
     "execution_count": 4,
     "metadata": {},
     "output_type": "execute_result"
    }
   ],
   "source": [
    "data.data.head()"
   ]
  },
  {
   "attachments": {},
   "cell_type": "markdown",
   "metadata": {},
   "source": [
    "this is our \"original\" dataset; now we want to load a generator that takes the original dataset and returns synthetic data based on it (?)"
   ]
  },
  {
   "attachments": {},
   "cell_type": "markdown",
   "metadata": {},
   "source": [
    "## The generator\n",
    "\n",
    "We make a generator in the file `src/myexecutable.py`, and need to make it executable with `chmod +x src/myexecutable.py`. \n",
    "Key features of the generator:\n",
    "- it has the same structure as the original data set \n",
    "- it prints out the generated data set to the console, and the console output is read back into the python by tapas \n",
    "\n",
    "\n",
    "Then we can instantiate the generator."
   ]
  },
  {
   "cell_type": "code",
   "execution_count": 5,
   "metadata": {},
   "outputs": [],
   "source": [
    "generator = tapas.generators.GeneratorFromExecutable(exe=\"src/myexecutable.py\")"
   ]
  },
  {
   "cell_type": "code",
   "execution_count": 6,
   "metadata": {},
   "outputs": [],
   "source": [
    "generator.fit(data)"
   ]
  },
  {
   "cell_type": "code",
   "execution_count": 7,
   "metadata": {},
   "outputs": [],
   "source": [
    "synthetic_data = generator.generate(3)"
   ]
  },
  {
   "cell_type": "code",
   "execution_count": 8,
   "metadata": {},
   "outputs": [
    {
     "data": {
      "text/html": [
       "<div>\n",
       "<style scoped>\n",
       "    .dataframe tbody tr th:only-of-type {\n",
       "        vertical-align: middle;\n",
       "    }\n",
       "\n",
       "    .dataframe tbody tr th {\n",
       "        vertical-align: top;\n",
       "    }\n",
       "\n",
       "    .dataframe thead th {\n",
       "        text-align: right;\n",
       "    }\n",
       "</style>\n",
       "<table border=\"1\" class=\"dataframe\">\n",
       "  <thead>\n",
       "    <tr style=\"text-align: right;\">\n",
       "      <th></th>\n",
       "      <th>id</th>\n",
       "      <th>wage</th>\n",
       "    </tr>\n",
       "  </thead>\n",
       "  <tbody>\n",
       "    <tr>\n",
       "      <th>0</th>\n",
       "      <td>0.0</td>\n",
       "      <td>0.682352</td>\n",
       "    </tr>\n",
       "    <tr>\n",
       "      <th>1</th>\n",
       "      <td>1.0</td>\n",
       "      <td>0.053821</td>\n",
       "    </tr>\n",
       "    <tr>\n",
       "      <th>2</th>\n",
       "      <td>2.0</td>\n",
       "      <td>0.220360</td>\n",
       "    </tr>\n",
       "  </tbody>\n",
       "</table>\n",
       "</div>"
      ],
      "text/plain": [
       "    id      wage\n",
       "0  0.0  0.682352\n",
       "1  1.0  0.053821\n",
       "2  2.0  0.220360"
      ]
     },
     "execution_count": 8,
     "metadata": {},
     "output_type": "execute_result"
    }
   ],
   "source": [
    "synthetic_data.data.head()"
   ]
  },
  {
   "attachments": {},
   "cell_type": "markdown",
   "metadata": {},
   "source": [
    "### Now let's try to run an attack on this model"
   ]
  },
  {
   "cell_type": "code",
   "execution_count": 9,
   "metadata": {},
   "outputs": [],
   "source": [
    "import tapas.datasets\n",
    "import tapas.generators\n",
    "import tapas.threat_models\n",
    "import tapas.attacks\n",
    "import tapas.report"
   ]
  },
  {
   "cell_type": "code",
   "execution_count": 10,
   "metadata": {},
   "outputs": [],
   "source": [
    "df_data, data_schema = create_data(100000)\n",
    "data_description = tapas.datasets.DataDescription(schema=data_schema)\n",
    "data = tapas.datasets.TabularDataset(data=df_data, description=data_description)"
   ]
  },
  {
   "cell_type": "code",
   "execution_count": 11,
   "metadata": {},
   "outputs": [],
   "source": [
    "generator = tapas.generators.GeneratorFromExecutable(exe=\"src/myexecutable.py\")"
   ]
  },
  {
   "cell_type": "code",
   "execution_count": 12,
   "metadata": {},
   "outputs": [],
   "source": [
    "data_knowledge = tapas.threat_models.AuxiliaryDataKnowledge(\n",
    "      data,\n",
    "      auxiliary_split=0.5,\n",
    "      num_training_records=5000\n",
    ")"
   ]
  },
  {
   "cell_type": "code",
   "execution_count": 13,
   "metadata": {},
   "outputs": [],
   "source": [
    "sdg_knowledge = tapas.threat_models.BlackBoxKnowledge(\n",
    "    generator,\n",
    "    num_synthetic_records=5000,\n",
    ")"
   ]
  },
  {
   "cell_type": "code",
   "execution_count": 14,
   "metadata": {},
   "outputs": [],
   "source": [
    "threat_model = tapas.threat_models.TargetedMIA(\n",
    "   attacker_knowledge_data=data_knowledge,\n",
    "   target_record=data.get_records([0]),\n",
    "   attacker_knowledge_generator=sdg_knowledge,\n",
    "   generate_pairs=True,\n",
    "   replace_target=True\n",
    ")"
   ]
  },
  {
   "cell_type": "code",
   "execution_count": 15,
   "metadata": {},
   "outputs": [],
   "source": [
    "attacker = tapas.attacks.GroundhogAttack()"
   ]
  },
  {
   "attachments": {},
   "cell_type": "markdown",
   "metadata": {},
   "source": [
    "the cell below fails with an attribute error: numpy.ndarray has no attribute index.\n",
    "I don't think the reason is a missing index on the generated dataset; see https://github.com/alan-turing-institute/privacy-sdg-toolbox/blob/ebe3e94bc08f91290e809d4cadd2cfd72d9ea561/tapas/datasets/dataset.py#L14: the method assumes no index column when the data are read "
   ]
  },
  {
   "cell_type": "code",
   "execution_count": 16,
   "metadata": {},
   "outputs": [
    {
     "ename": "AttributeError",
     "evalue": "'numpy.ndarray' object has no attribute 'index'",
     "output_type": "error",
     "traceback": [
      "\u001b[0;31m---------------------------------------------------------------------------\u001b[0m",
      "\u001b[0;31mAttributeError\u001b[0m                            Traceback (most recent call last)",
      "Cell \u001b[0;32mIn[16], line 1\u001b[0m\n\u001b[0;32m----> 1\u001b[0m attacker\u001b[39m.\u001b[39;49mtrain(threat_model, num_samples\u001b[39m=\u001b[39;49m\u001b[39m5\u001b[39;49m)\n",
      "File \u001b[0;32m~/repositories/projects/GANS/explore-attacks/.venv/lib/python3.9/site-packages/tapas/attacks/shadow_modelling.py:87\u001b[0m, in \u001b[0;36mShadowModellingAttack.train\u001b[0;34m(self, threat_model, num_samples)\u001b[0m\n\u001b[1;32m     84\u001b[0m synthetic_datasets, labels \u001b[39m=\u001b[39m threat_model\u001b[39m.\u001b[39mgenerate_training_samples(num_samples)\n\u001b[1;32m     86\u001b[0m \u001b[39m# Fit the classifier to the data.\u001b[39;00m\n\u001b[0;32m---> 87\u001b[0m \u001b[39mself\u001b[39;49m\u001b[39m.\u001b[39;49mclassifier\u001b[39m.\u001b[39;49mfit(synthetic_datasets, labels)\n\u001b[1;32m     88\u001b[0m \u001b[39mself\u001b[39m\u001b[39m.\u001b[39mtrained \u001b[39m=\u001b[39m \u001b[39mTrue\u001b[39;00m\n",
      "File \u001b[0;32m~/repositories/projects/GANS/explore-attacks/.venv/lib/python3.9/site-packages/tapas/attacks/set_classifiers.py:144\u001b[0m, in \u001b[0;36mFeatureBasedSetClassifier.fit\u001b[0;34m(self, datasets, labels)\u001b[0m\n\u001b[1;32m    143\u001b[0m \u001b[39mdef\u001b[39;00m \u001b[39mfit\u001b[39m(\u001b[39mself\u001b[39m, datasets: \u001b[39mlist\u001b[39m[Dataset], labels: \u001b[39mlist\u001b[39m[\u001b[39mint\u001b[39m]):\n\u001b[0;32m--> 144\u001b[0m     \u001b[39mself\u001b[39m\u001b[39m.\u001b[39mclassifier\u001b[39m.\u001b[39mfit(\u001b[39mself\u001b[39;49m\u001b[39m.\u001b[39;49mfeatures(datasets), labels)\n",
      "File \u001b[0;32m~/repositories/projects/GANS/explore-attacks/.venv/lib/python3.9/site-packages/tapas/attacks/set_classifiers.py:85\u001b[0m, in \u001b[0;36mSetFeature.__call__\u001b[0;34m(self, *args, **kwargs)\u001b[0m\n\u001b[1;32m     84\u001b[0m \u001b[39mdef\u001b[39;00m \u001b[39m__call__\u001b[39m(\u001b[39mself\u001b[39m, \u001b[39m*\u001b[39margs, \u001b[39m*\u001b[39m\u001b[39m*\u001b[39mkwargs):\n\u001b[0;32m---> 85\u001b[0m     \u001b[39mreturn\u001b[39;00m \u001b[39mself\u001b[39;49m\u001b[39m.\u001b[39;49mextract(\u001b[39m*\u001b[39;49margs, \u001b[39m*\u001b[39;49m\u001b[39m*\u001b[39;49mkwargs)\n",
      "File \u001b[0;32m~/repositories/projects/GANS/explore-attacks/.venv/lib/python3.9/site-packages/tapas/attacks/set_classifiers.py:108\u001b[0m, in \u001b[0;36mCombinedSetFeatures.extract\u001b[0;34m(self, dataset)\u001b[0m\n\u001b[1;32m    107\u001b[0m \u001b[39mdef\u001b[39;00m \u001b[39mextract\u001b[39m(\u001b[39mself\u001b[39m, dataset: Dataset) \u001b[39m-\u001b[39m\u001b[39m>\u001b[39m np\u001b[39m.\u001b[39marray:\n\u001b[0;32m--> 108\u001b[0m     \u001b[39mreturn\u001b[39;00m np\u001b[39m.\u001b[39mconcatenate([f\u001b[39m.\u001b[39mextract(dataset) \u001b[39mfor\u001b[39;00m f \u001b[39min\u001b[39;00m \u001b[39mself\u001b[39m\u001b[39m.\u001b[39mfeatures], axis\u001b[39m=\u001b[39m\u001b[39m1\u001b[39m)\n",
      "File \u001b[0;32m~/repositories/projects/GANS/explore-attacks/.venv/lib/python3.9/site-packages/tapas/attacks/set_classifiers.py:108\u001b[0m, in \u001b[0;36m<listcomp>\u001b[0;34m(.0)\u001b[0m\n\u001b[1;32m    107\u001b[0m \u001b[39mdef\u001b[39;00m \u001b[39mextract\u001b[39m(\u001b[39mself\u001b[39m, dataset: Dataset) \u001b[39m-\u001b[39m\u001b[39m>\u001b[39m np\u001b[39m.\u001b[39marray:\n\u001b[0;32m--> 108\u001b[0m     \u001b[39mreturn\u001b[39;00m np\u001b[39m.\u001b[39mconcatenate([f\u001b[39m.\u001b[39;49mextract(dataset) \u001b[39mfor\u001b[39;00m f \u001b[39min\u001b[39;00m \u001b[39mself\u001b[39m\u001b[39m.\u001b[39mfeatures], axis\u001b[39m=\u001b[39m\u001b[39m1\u001b[39m)\n",
      "File \u001b[0;32m~/repositories/projects/GANS/explore-attacks/.venv/lib/python3.9/site-packages/tapas/attacks/set_classifiers.py:108\u001b[0m, in \u001b[0;36mCombinedSetFeatures.extract\u001b[0;34m(self, dataset)\u001b[0m\n\u001b[1;32m    107\u001b[0m \u001b[39mdef\u001b[39;00m \u001b[39mextract\u001b[39m(\u001b[39mself\u001b[39m, dataset: Dataset) \u001b[39m-\u001b[39m\u001b[39m>\u001b[39m np\u001b[39m.\u001b[39marray:\n\u001b[0;32m--> 108\u001b[0m     \u001b[39mreturn\u001b[39;00m np\u001b[39m.\u001b[39mconcatenate([f\u001b[39m.\u001b[39mextract(dataset) \u001b[39mfor\u001b[39;00m f \u001b[39min\u001b[39;00m \u001b[39mself\u001b[39m\u001b[39m.\u001b[39mfeatures], axis\u001b[39m=\u001b[39m\u001b[39m1\u001b[39m)\n",
      "File \u001b[0;32m~/repositories/projects/GANS/explore-attacks/.venv/lib/python3.9/site-packages/tapas/attacks/set_classifiers.py:108\u001b[0m, in \u001b[0;36m<listcomp>\u001b[0;34m(.0)\u001b[0m\n\u001b[1;32m    107\u001b[0m \u001b[39mdef\u001b[39;00m \u001b[39mextract\u001b[39m(\u001b[39mself\u001b[39m, dataset: Dataset) \u001b[39m-\u001b[39m\u001b[39m>\u001b[39m np\u001b[39m.\u001b[39marray:\n\u001b[0;32m--> 108\u001b[0m     \u001b[39mreturn\u001b[39;00m np\u001b[39m.\u001b[39mconcatenate([f\u001b[39m.\u001b[39;49mextract(dataset) \u001b[39mfor\u001b[39;00m f \u001b[39min\u001b[39;00m \u001b[39mself\u001b[39m\u001b[39m.\u001b[39mfeatures], axis\u001b[39m=\u001b[39m\u001b[39m1\u001b[39m)\n",
      "File \u001b[0;32m~/repositories/projects/GANS/explore-attacks/.venv/lib/python3.9/site-packages/tapas/attacks/set_classifiers.py:174\u001b[0m, in \u001b[0;36mNaiveSetFeature.extract\u001b[0;34m(self, datasets)\u001b[0m\n\u001b[1;32m    173\u001b[0m \u001b[39mdef\u001b[39;00m \u001b[39mextract\u001b[39m(\u001b[39mself\u001b[39m, datasets: \u001b[39mlist\u001b[39m[TabularDataset]) \u001b[39m-\u001b[39m\u001b[39m>\u001b[39m np\u001b[39m.\u001b[39marray:\n\u001b[0;32m--> 174\u001b[0m     np_data \u001b[39m=\u001b[39m [dataset\u001b[39m.\u001b[39mas_numeric \u001b[39mfor\u001b[39;00m dataset \u001b[39min\u001b[39;00m datasets]\n\u001b[1;32m    175\u001b[0m     \u001b[39mreturn\u001b[39;00m np\u001b[39m.\u001b[39mstack(\n\u001b[1;32m    176\u001b[0m         [\n\u001b[1;32m    177\u001b[0m             np\u001b[39m.\u001b[39mconcatenate(\n\u001b[0;32m   (...)\u001b[0m\n\u001b[1;32m    185\u001b[0m         ]\n\u001b[1;32m    186\u001b[0m     )\n",
      "File \u001b[0;32m~/repositories/projects/GANS/explore-attacks/.venv/lib/python3.9/site-packages/tapas/attacks/set_classifiers.py:174\u001b[0m, in \u001b[0;36m<listcomp>\u001b[0;34m(.0)\u001b[0m\n\u001b[1;32m    173\u001b[0m \u001b[39mdef\u001b[39;00m \u001b[39mextract\u001b[39m(\u001b[39mself\u001b[39m, datasets: \u001b[39mlist\u001b[39m[TabularDataset]) \u001b[39m-\u001b[39m\u001b[39m>\u001b[39m np\u001b[39m.\u001b[39marray:\n\u001b[0;32m--> 174\u001b[0m     np_data \u001b[39m=\u001b[39m [dataset\u001b[39m.\u001b[39;49mas_numeric \u001b[39mfor\u001b[39;00m dataset \u001b[39min\u001b[39;00m datasets]\n\u001b[1;32m    175\u001b[0m     \u001b[39mreturn\u001b[39;00m np\u001b[39m.\u001b[39mstack(\n\u001b[1;32m    176\u001b[0m         [\n\u001b[1;32m    177\u001b[0m             np\u001b[39m.\u001b[39mconcatenate(\n\u001b[0;32m   (...)\u001b[0m\n\u001b[1;32m    185\u001b[0m         ]\n\u001b[1;32m    186\u001b[0m     )\n",
      "File \u001b[0;32m~/repositories/projects/GANS/explore-attacks/.venv/lib/python3.9/site-packages/tapas/datasets/dataset.py:558\u001b[0m, in \u001b[0;36mTabularDataset.as_numeric\u001b[0;34m(self)\u001b[0m\n\u001b[1;32m    542\u001b[0m \u001b[39m@property\u001b[39m\n\u001b[1;32m    543\u001b[0m \u001b[39mdef\u001b[39;00m \u001b[39mas_numeric\u001b[39m(\u001b[39mself\u001b[39m):\n\u001b[1;32m    544\u001b[0m \u001b[39m    \u001b[39m\u001b[39m\"\"\"\u001b[39;00m\n\u001b[1;32m    545\u001b[0m \u001b[39m    Encodes this dataset as a np.array, where numeric values are kept as is\u001b[39;00m\n\u001b[1;32m    546\u001b[0m \u001b[39m    and categorical values are 1-hot encoded. This is only computed once\u001b[39;00m\n\u001b[0;32m   (...)\u001b[0m\n\u001b[1;32m    556\u001b[0m \n\u001b[1;32m    557\u001b[0m \u001b[39m    \"\"\"\u001b[39;00m\n\u001b[0;32m--> 558\u001b[0m     \u001b[39mreturn\u001b[39;00m encode_data(\u001b[39mself\u001b[39;49m)\n",
      "File \u001b[0;32m~/repositories/projects/GANS/explore-attacks/.venv/lib/python3.9/site-packages/tapas/datasets/utils.py:79\u001b[0m, in \u001b[0;36mencode_data\u001b[0;34m(dataset, infer_ranges)\u001b[0m\n\u001b[1;32m     76\u001b[0m \u001b[39melse\u001b[39;00m:\n\u001b[1;32m     77\u001b[0m     col_cats \u001b[39m=\u001b[39m d_repr\n\u001b[0;32m---> 79\u001b[0m col_data_onehot \u001b[39m=\u001b[39m one_hot(col_data, col_cats)\n\u001b[1;32m     80\u001b[0m encoded_data[:, cidx : cidx \u001b[39m+\u001b[39m \u001b[39mlen\u001b[39m(col_cats)] \u001b[39m=\u001b[39m col_data_onehot\n\u001b[1;32m     82\u001b[0m cidx \u001b[39m+\u001b[39m\u001b[39m=\u001b[39m \u001b[39mlen\u001b[39m(col_cats)\n",
      "File \u001b[0;32m~/repositories/projects/GANS/explore-attacks/.venv/lib/python3.9/site-packages/tapas/datasets/utils.py:101\u001b[0m, in \u001b[0;36mone_hot\u001b[0;34m(col_data, categories)\u001b[0m\n\u001b[1;32m     99\u001b[0m \u001b[39mdef\u001b[39;00m \u001b[39mone_hot\u001b[39m(col_data, categories):\n\u001b[1;32m    100\u001b[0m     col_data_onehot \u001b[39m=\u001b[39m np\u001b[39m.\u001b[39mzeros((\u001b[39mlen\u001b[39m(col_data), \u001b[39mlen\u001b[39m(categories)))\n\u001b[0;32m--> 101\u001b[0m     cidx \u001b[39m=\u001b[39m [categories\u001b[39m.\u001b[39mindex(c) \u001b[39mfor\u001b[39;00m c \u001b[39min\u001b[39;00m col_data]\n\u001b[1;32m    102\u001b[0m     col_data_onehot[np\u001b[39m.\u001b[39marange(\u001b[39mlen\u001b[39m(col_data)), cidx] \u001b[39m=\u001b[39m \u001b[39m1\u001b[39m\n\u001b[1;32m    104\u001b[0m     \u001b[39mreturn\u001b[39;00m col_data_onehot\n",
      "File \u001b[0;32m~/repositories/projects/GANS/explore-attacks/.venv/lib/python3.9/site-packages/tapas/datasets/utils.py:101\u001b[0m, in \u001b[0;36m<listcomp>\u001b[0;34m(.0)\u001b[0m\n\u001b[1;32m     99\u001b[0m \u001b[39mdef\u001b[39;00m \u001b[39mone_hot\u001b[39m(col_data, categories):\n\u001b[1;32m    100\u001b[0m     col_data_onehot \u001b[39m=\u001b[39m np\u001b[39m.\u001b[39mzeros((\u001b[39mlen\u001b[39m(col_data), \u001b[39mlen\u001b[39m(categories)))\n\u001b[0;32m--> 101\u001b[0m     cidx \u001b[39m=\u001b[39m [categories\u001b[39m.\u001b[39;49mindex(c) \u001b[39mfor\u001b[39;00m c \u001b[39min\u001b[39;00m col_data]\n\u001b[1;32m    102\u001b[0m     col_data_onehot[np\u001b[39m.\u001b[39marange(\u001b[39mlen\u001b[39m(col_data)), cidx] \u001b[39m=\u001b[39m \u001b[39m1\u001b[39m\n\u001b[1;32m    104\u001b[0m     \u001b[39mreturn\u001b[39;00m col_data_onehot\n",
      "\u001b[0;31mAttributeError\u001b[0m: 'numpy.ndarray' object has no attribute 'index'"
     ]
    }
   ],
   "source": [
    "attacker.train(threat_model, num_samples=5)\n"
   ]
  },
  {
   "attachments": {},
   "cell_type": "markdown",
   "metadata": {},
   "source": [
    "### Try some other attacks\n",
    "\n",
    "https://privacy-sdg-toolbox.readthedocs.io/en/latest/library-of-attacks.html"
   ]
  },
  {
   "attachments": {},
   "cell_type": "markdown",
   "metadata": {},
   "source": [
    "use one threat model for all of them "
   ]
  },
  {
   "cell_type": "code",
   "execution_count": 37,
   "metadata": {},
   "outputs": [],
   "source": [
    "threat_model = tapas.threat_models.TargetedMIA(\n",
    "   attacker_knowledge_data=data_knowledge,\n",
    "   target_record=data.get_records(range(10)), # focus on the first 10 records\n",
    "   attacker_knowledge_generator=sdg_knowledge,\n",
    "   generate_pairs=True,\n",
    "   replace_target=True\n",
    ")\n",
    "\n",
    "synth_datasets = [generator.generate(100), generator.generate(50)] # note they use the same seed (can I change it anywhere), so the records overlap"
   ]
  },
  {
   "cell_type": "code",
   "execution_count": null,
   "metadata": {},
   "outputs": [],
   "source": []
  },
  {
   "attachments": {},
   "cell_type": "markdown",
   "metadata": {},
   "source": [
    "#### ClosestDistanceMIA"
   ]
  },
  {
   "cell_type": "code",
   "execution_count": 38,
   "metadata": {},
   "outputs": [],
   "source": [
    "attacker = tapas.attacks.ClosestDistanceMIA()\n"
   ]
  },
  {
   "cell_type": "code",
   "execution_count": 39,
   "metadata": {},
   "outputs": [],
   "source": [
    "attacker.train(threat_model, num_samples=10)"
   ]
  },
  {
   "cell_type": "code",
   "execution_count": 40,
   "metadata": {},
   "outputs": [
    {
     "data": {
      "text/plain": [
       "array([-1., -1.])"
      ]
     },
     "execution_count": 40,
     "metadata": {},
     "output_type": "execute_result"
    }
   ],
   "source": [
    "attacker.attack_score(synth_datasets) "
   ]
  },
  {
   "attachments": {},
   "cell_type": "markdown",
   "metadata": {},
   "source": [
    "what does this output mean? it returns 1 number per data set, irrespectively of the number of targeted records in the threat model "
   ]
  },
  {
   "attachments": {},
   "cell_type": "markdown",
   "metadata": {},
   "source": [
    "#### LocalNeighbourhoodAttack"
   ]
  },
  {
   "cell_type": "code",
   "execution_count": 43,
   "metadata": {},
   "outputs": [],
   "source": [
    "attacker = tapas.attacks.LocalNeighbourhoodAttack()\n",
    "attacker.train(threat_model, num_samples=10)"
   ]
  },
  {
   "cell_type": "code",
   "execution_count": 45,
   "metadata": {},
   "outputs": [
    {
     "data": {
      "text/plain": [
       "array([0.01, 0.02])"
      ]
     },
     "execution_count": 45,
     "metadata": {},
     "output_type": "execute_result"
    }
   ],
   "source": [
    "attacker.attack_score(synth_datasets)"
   ]
  },
  {
   "attachments": {},
   "cell_type": "markdown",
   "metadata": {},
   "source": [
    "#### ProbabilityEstimationAttack"
   ]
  },
  {
   "cell_type": "code",
   "execution_count": 47,
   "metadata": {},
   "outputs": [],
   "source": [
    "from sklearn.neighbors import KernelDensity\n",
    "kde = KernelDensity(kernel='gaussian', bandwidth=0.2)"
   ]
  },
  {
   "cell_type": "code",
   "execution_count": 50,
   "metadata": {},
   "outputs": [
    {
     "ename": "AttributeError",
     "evalue": "'numpy.ndarray' object has no attribute 'index'",
     "output_type": "error",
     "traceback": [
      "\u001b[0;31m---------------------------------------------------------------------------\u001b[0m",
      "\u001b[0;31mAttributeError\u001b[0m                            Traceback (most recent call last)",
      "Cell \u001b[0;32mIn[50], line 2\u001b[0m\n\u001b[1;32m      1\u001b[0m attacker \u001b[39m=\u001b[39m tapas\u001b[39m.\u001b[39mattacks\u001b[39m.\u001b[39mProbabilityEstimationAttack(estimator\u001b[39m=\u001b[39mkde, criterion\u001b[39m=\u001b[39m\u001b[39m\"\u001b[39m\u001b[39maccuracy\u001b[39m\u001b[39m\"\u001b[39m)\n\u001b[0;32m----> 2\u001b[0m attacker\u001b[39m.\u001b[39;49mtrain(threat_model, num_samples\u001b[39m=\u001b[39;49m\u001b[39m10\u001b[39;49m)\n",
      "File \u001b[0;32m~/repositories/projects/GANS/explore-attacks/.venv/lib/python3.9/site-packages/tapas/attacks/base_classes.py:219\u001b[0m, in \u001b[0;36mTrainableThresholdAttack.train\u001b[0;34m(self, threat_model, num_samples, **attack_score_kwargs)\u001b[0m\n\u001b[1;32m    215\u001b[0m     \u001b[39mreturn\u001b[39;00m  \u001b[39m# No training required.\u001b[39;00m\n\u001b[1;32m    217\u001b[0m \u001b[39m# Finally, compute the ROC curve and select the threshold from it.\u001b[39;00m\n\u001b[1;32m    218\u001b[0m fpr_all, tpr_all, thresholds \u001b[39m=\u001b[39m roc_curve(\n\u001b[0;32m--> 219\u001b[0m     labels, \u001b[39mself\u001b[39;49m\u001b[39m.\u001b[39;49mattack_score(synthetic_datasets), pos_label\u001b[39m=\u001b[39m\u001b[39mself\u001b[39m\u001b[39m.\u001b[39mpositive_label\n\u001b[1;32m    220\u001b[0m )\n\u001b[1;32m    221\u001b[0m \u001b[39m# Select the threshold such that the criterion is matched.\u001b[39;00m\n\u001b[1;32m    222\u001b[0m \u001b[39mif\u001b[39;00m \u001b[39mself\u001b[39m\u001b[39m.\u001b[39mtarget_criterion \u001b[39m==\u001b[39m \u001b[39m\"\u001b[39m\u001b[39mfpr\u001b[39m\u001b[39m\"\u001b[39m:\n",
      "File \u001b[0;32m~/repositories/projects/GANS/explore-attacks/.venv/lib/python3.9/site-packages/tapas/attacks/synthinference.py:117\u001b[0m, in \u001b[0;36mProbabilityEstimationAttack.attack_score\u001b[0;34m(self, datasets)\u001b[0m\n\u001b[1;32m    115\u001b[0m scores \u001b[39m=\u001b[39m []\n\u001b[1;32m    116\u001b[0m \u001b[39mfor\u001b[39;00m dataset \u001b[39min\u001b[39;00m datasets:\n\u001b[0;32m--> 117\u001b[0m     \u001b[39mself\u001b[39;49m\u001b[39m.\u001b[39;49mestimator\u001b[39m.\u001b[39;49mfit(dataset)\n\u001b[1;32m    118\u001b[0m     scores\u001b[39m.\u001b[39mappend(\u001b[39mself\u001b[39m\u001b[39m.\u001b[39mestimator\u001b[39m.\u001b[39mscore(\u001b[39mself\u001b[39m\u001b[39m.\u001b[39mthreat_model\u001b[39m.\u001b[39mtarget_record)[\u001b[39m0\u001b[39m])\n\u001b[1;32m    119\u001b[0m \u001b[39mreturn\u001b[39;00m np\u001b[39m.\u001b[39marray(scores)\n",
      "File \u001b[0;32m~/repositories/projects/GANS/explore-attacks/.venv/lib/python3.9/site-packages/tapas/attacks/synthinference.py:61\u001b[0m, in \u001b[0;36msklearnDensityEstimator.fit\u001b[0;34m(self, dataset)\u001b[0m\n\u001b[1;32m     59\u001b[0m \u001b[39mdef\u001b[39;00m \u001b[39mfit\u001b[39m(\u001b[39mself\u001b[39m, dataset: Dataset):\n\u001b[1;32m     60\u001b[0m     \u001b[39mself\u001b[39m\u001b[39m.\u001b[39m_data_description \u001b[39m=\u001b[39m dataset\u001b[39m.\u001b[39mdescription\n\u001b[0;32m---> 61\u001b[0m     \u001b[39mself\u001b[39m\u001b[39m.\u001b[39mmodel\u001b[39m.\u001b[39mfit(dataset\u001b[39m.\u001b[39;49mas_numeric)\n",
      "File \u001b[0;32m~/repositories/projects/GANS/explore-attacks/.venv/lib/python3.9/site-packages/tapas/datasets/dataset.py:558\u001b[0m, in \u001b[0;36mTabularDataset.as_numeric\u001b[0;34m(self)\u001b[0m\n\u001b[1;32m    542\u001b[0m \u001b[39m@property\u001b[39m\n\u001b[1;32m    543\u001b[0m \u001b[39mdef\u001b[39;00m \u001b[39mas_numeric\u001b[39m(\u001b[39mself\u001b[39m):\n\u001b[1;32m    544\u001b[0m \u001b[39m    \u001b[39m\u001b[39m\"\"\"\u001b[39;00m\n\u001b[1;32m    545\u001b[0m \u001b[39m    Encodes this dataset as a np.array, where numeric values are kept as is\u001b[39;00m\n\u001b[1;32m    546\u001b[0m \u001b[39m    and categorical values are 1-hot encoded. This is only computed once\u001b[39;00m\n\u001b[0;32m   (...)\u001b[0m\n\u001b[1;32m    556\u001b[0m \n\u001b[1;32m    557\u001b[0m \u001b[39m    \"\"\"\u001b[39;00m\n\u001b[0;32m--> 558\u001b[0m     \u001b[39mreturn\u001b[39;00m encode_data(\u001b[39mself\u001b[39;49m)\n",
      "File \u001b[0;32m~/repositories/projects/GANS/explore-attacks/.venv/lib/python3.9/site-packages/tapas/datasets/utils.py:79\u001b[0m, in \u001b[0;36mencode_data\u001b[0;34m(dataset, infer_ranges)\u001b[0m\n\u001b[1;32m     76\u001b[0m \u001b[39melse\u001b[39;00m:\n\u001b[1;32m     77\u001b[0m     col_cats \u001b[39m=\u001b[39m d_repr\n\u001b[0;32m---> 79\u001b[0m col_data_onehot \u001b[39m=\u001b[39m one_hot(col_data, col_cats)\n\u001b[1;32m     80\u001b[0m encoded_data[:, cidx : cidx \u001b[39m+\u001b[39m \u001b[39mlen\u001b[39m(col_cats)] \u001b[39m=\u001b[39m col_data_onehot\n\u001b[1;32m     82\u001b[0m cidx \u001b[39m+\u001b[39m\u001b[39m=\u001b[39m \u001b[39mlen\u001b[39m(col_cats)\n",
      "File \u001b[0;32m~/repositories/projects/GANS/explore-attacks/.venv/lib/python3.9/site-packages/tapas/datasets/utils.py:101\u001b[0m, in \u001b[0;36mone_hot\u001b[0;34m(col_data, categories)\u001b[0m\n\u001b[1;32m     99\u001b[0m \u001b[39mdef\u001b[39;00m \u001b[39mone_hot\u001b[39m(col_data, categories):\n\u001b[1;32m    100\u001b[0m     col_data_onehot \u001b[39m=\u001b[39m np\u001b[39m.\u001b[39mzeros((\u001b[39mlen\u001b[39m(col_data), \u001b[39mlen\u001b[39m(categories)))\n\u001b[0;32m--> 101\u001b[0m     cidx \u001b[39m=\u001b[39m [categories\u001b[39m.\u001b[39mindex(c) \u001b[39mfor\u001b[39;00m c \u001b[39min\u001b[39;00m col_data]\n\u001b[1;32m    102\u001b[0m     col_data_onehot[np\u001b[39m.\u001b[39marange(\u001b[39mlen\u001b[39m(col_data)), cidx] \u001b[39m=\u001b[39m \u001b[39m1\u001b[39m\n\u001b[1;32m    104\u001b[0m     \u001b[39mreturn\u001b[39;00m col_data_onehot\n",
      "File \u001b[0;32m~/repositories/projects/GANS/explore-attacks/.venv/lib/python3.9/site-packages/tapas/datasets/utils.py:101\u001b[0m, in \u001b[0;36m<listcomp>\u001b[0;34m(.0)\u001b[0m\n\u001b[1;32m     99\u001b[0m \u001b[39mdef\u001b[39;00m \u001b[39mone_hot\u001b[39m(col_data, categories):\n\u001b[1;32m    100\u001b[0m     col_data_onehot \u001b[39m=\u001b[39m np\u001b[39m.\u001b[39mzeros((\u001b[39mlen\u001b[39m(col_data), \u001b[39mlen\u001b[39m(categories)))\n\u001b[0;32m--> 101\u001b[0m     cidx \u001b[39m=\u001b[39m [categories\u001b[39m.\u001b[39;49mindex(c) \u001b[39mfor\u001b[39;00m c \u001b[39min\u001b[39;00m col_data]\n\u001b[1;32m    102\u001b[0m     col_data_onehot[np\u001b[39m.\u001b[39marange(\u001b[39mlen\u001b[39m(col_data)), cidx] \u001b[39m=\u001b[39m \u001b[39m1\u001b[39m\n\u001b[1;32m    104\u001b[0m     \u001b[39mreturn\u001b[39;00m col_data_onehot\n",
      "\u001b[0;31mAttributeError\u001b[0m: 'numpy.ndarray' object has no attribute 'index'"
     ]
    }
   ],
   "source": [
    "attacker = tapas.attacks.ProbabilityEstimationAttack(estimator=kde, criterion=\"accuracy\")\n",
    "attacker.train(threat_model, num_samples=10)"
   ]
  },
  {
   "cell_type": "code",
   "execution_count": 51,
   "metadata": {},
   "outputs": [
    {
     "data": {
      "text/plain": [
       "['__abstractmethods__',\n",
       " '__class__',\n",
       " '__delattr__',\n",
       " '__dict__',\n",
       " '__dir__',\n",
       " '__doc__',\n",
       " '__eq__',\n",
       " '__format__',\n",
       " '__ge__',\n",
       " '__getattribute__',\n",
       " '__gt__',\n",
       " '__hash__',\n",
       " '__init__',\n",
       " '__init_subclass__',\n",
       " '__le__',\n",
       " '__lt__',\n",
       " '__module__',\n",
       " '__ne__',\n",
       " '__new__',\n",
       " '__reduce__',\n",
       " '__reduce_ex__',\n",
       " '__repr__',\n",
       " '__setattr__',\n",
       " '__sizeof__',\n",
       " '__slots__',\n",
       " '__str__',\n",
       " '__subclasshook__',\n",
       " '__weakref__',\n",
       " '_abc_impl',\n",
       " '_label',\n",
       " '_threshold',\n",
       " '_train_attack_score',\n",
       " 'attack',\n",
       " 'attack_score',\n",
       " 'estimator',\n",
       " 'label',\n",
       " 'negative_label',\n",
       " 'positive_label',\n",
       " 'target_criterion',\n",
       " 'threat_model',\n",
       " 'train']"
      ]
     },
     "execution_count": 51,
     "metadata": {},
     "output_type": "execute_result"
    }
   ],
   "source": [
    "dir(attacker)"
   ]
  },
  {
   "attachments": {},
   "cell_type": "markdown",
   "metadata": {},
   "source": [
    "effective epsilons??"
   ]
  },
  {
   "attachments": {},
   "cell_type": "markdown",
   "metadata": {},
   "source": [
    "### Evaluation and reports\n",
    "\n",
    "tbd"
   ]
  },
  {
   "attachments": {},
   "cell_type": "markdown",
   "metadata": {},
   "source": []
  }
 ],
 "metadata": {
  "kernelspec": {
   "display_name": ".venv",
   "language": "python",
   "name": "python3"
  },
  "language_info": {
   "codemirror_mode": {
    "name": "ipython",
    "version": 3
   },
   "file_extension": ".py",
   "mimetype": "text/x-python",
   "name": "python",
   "nbconvert_exporter": "python",
   "pygments_lexer": "ipython3",
   "version": "3.9.5"
  },
  "orig_nbformat": 4
 },
 "nbformat": 4,
 "nbformat_minor": 2
}
