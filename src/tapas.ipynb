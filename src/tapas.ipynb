{
 "cells": [
  {
   "cell_type": "code",
   "execution_count": 30,
   "metadata": {},
   "outputs": [],
   "source": [
    "import tapas.datasets\n",
    "import tapas.generators\n",
    "import tapas.threat_models\n",
    "import tapas.attacks\n",
    "import tapas.report"
   ]
  },
  {
   "cell_type": "code",
   "execution_count": 31,
   "metadata": {},
   "outputs": [
    {
     "name": "stderr",
     "output_type": "stream",
     "text": [
      "/home/flavio/repositories/projects/GANS/explore-attacks/.venv/lib/python3.9/site-packages/tapas/datasets/dataset.py:37: DtypeWarning: Columns (17) have mixed types. Specify dtype option on import or set low_memory=False.\n",
      "  data = pd.read_csv(fp, header=validate_header(fp, cnames), dtype=dtypes, index_col=None, names=cnames)\n"
     ]
    }
   ],
   "source": [
    "data = tapas.datasets.TabularDataset.read(\"data/microdata-2011\")"
   ]
  },
  {
   "attachments": {},
   "cell_type": "markdown",
   "metadata": {},
   "source": [
    "Notes\n",
    "- there is no continuous variable in this census data set. does this matter for some generators?"
   ]
  },
  {
   "cell_type": "code",
   "execution_count": 32,
   "metadata": {},
   "outputs": [
    {
     "data": {
      "text/plain": [
       "tapas.datasets.dataset.TabularDataset"
      ]
     },
     "metadata": {},
     "output_type": "display_data"
    },
    {
     "data": {
      "text/plain": [
       "(569743, 17)"
      ]
     },
     "execution_count": 32,
     "metadata": {},
     "output_type": "execute_result"
    }
   ],
   "source": [
    "display(type(data))\n",
    "dir(data)\n",
    "type(data.data)\n",
    "data.data.head()\n"
   ]
  },
  {
   "attachments": {},
   "cell_type": "markdown",
   "metadata": {},
   "source": [
    "the first 2 rows are odd??"
   ]
  },
  {
   "cell_type": "code",
   "execution_count": 22,
   "metadata": {},
   "outputs": [],
   "source": [
    "generator = tapas.generators.Raw()"
   ]
  },
  {
   "attachments": {},
   "cell_type": "markdown",
   "metadata": {},
   "source": [
    "it's not clear to me how the generator is used downstream. ie, in this quickstart example, we only define the generator, and then pass it on to the threat model (through `sdg_knowledge`). \n",
    "- this must imply that generator.train() is called somewhere in the attack?\n",
    "    - The combination of all inputs to threat_model make all parts work together \n",
    "    - Thus, it is crucial to define the data type properly when using our own data/generator (following the instructions above)\n",
    "\n",
    "Below we see how to use `generator.generate()`."
   ]
  },
  {
   "cell_type": "code",
   "execution_count": 23,
   "metadata": {},
   "outputs": [
    {
     "data": {
      "text/html": [
       "<div>\n",
       "<style scoped>\n",
       "    .dataframe tbody tr th:only-of-type {\n",
       "        vertical-align: middle;\n",
       "    }\n",
       "\n",
       "    .dataframe tbody tr th {\n",
       "        vertical-align: top;\n",
       "    }\n",
       "\n",
       "    .dataframe thead th {\n",
       "        text-align: right;\n",
       "    }\n",
       "</style>\n",
       "<table border=\"1\" class=\"dataframe\">\n",
       "  <thead>\n",
       "    <tr style=\"text-align: right;\">\n",
       "      <th></th>\n",
       "      <th>Region</th>\n",
       "      <th>Residence Type</th>\n",
       "      <th>Family Composition</th>\n",
       "      <th>Population Base</th>\n",
       "      <th>Sex</th>\n",
       "      <th>Age</th>\n",
       "      <th>Marital Status</th>\n",
       "      <th>Student</th>\n",
       "      <th>Country of Birth</th>\n",
       "      <th>Health</th>\n",
       "      <th>Ethnic Group</th>\n",
       "      <th>Religion</th>\n",
       "      <th>Economic Activity</th>\n",
       "      <th>Occupation</th>\n",
       "      <th>Industry</th>\n",
       "      <th>Hours worked per week</th>\n",
       "      <th>Approximated Social Grade</th>\n",
       "    </tr>\n",
       "  </thead>\n",
       "  <tbody>\n",
       "    <tr>\n",
       "      <th>7623679</th>\n",
       "      <td>E12000002</td>\n",
       "      <td>H</td>\n",
       "      <td>1</td>\n",
       "      <td>1</td>\n",
       "      <td>2</td>\n",
       "      <td>8</td>\n",
       "      <td>5</td>\n",
       "      <td>2</td>\n",
       "      <td>1</td>\n",
       "      <td>3</td>\n",
       "      <td>1</td>\n",
       "      <td>2</td>\n",
       "      <td>5</td>\n",
       "      <td>6</td>\n",
       "      <td>11</td>\n",
       "      <td>-9</td>\n",
       "      <td>4</td>\n",
       "    </tr>\n",
       "    <tr>\n",
       "      <th>7942794</th>\n",
       "      <td>W92000004</td>\n",
       "      <td>H</td>\n",
       "      <td>1</td>\n",
       "      <td>1</td>\n",
       "      <td>1</td>\n",
       "      <td>4</td>\n",
       "      <td>4</td>\n",
       "      <td>2</td>\n",
       "      <td>1</td>\n",
       "      <td>2</td>\n",
       "      <td>1</td>\n",
       "      <td>1</td>\n",
       "      <td>1</td>\n",
       "      <td>2</td>\n",
       "      <td>2</td>\n",
       "      <td>3</td>\n",
       "      <td>1</td>\n",
       "    </tr>\n",
       "    <tr>\n",
       "      <th>7893106</th>\n",
       "      <td>E12000007</td>\n",
       "      <td>H</td>\n",
       "      <td>3</td>\n",
       "      <td>1</td>\n",
       "      <td>1</td>\n",
       "      <td>2</td>\n",
       "      <td>1</td>\n",
       "      <td>2</td>\n",
       "      <td>1</td>\n",
       "      <td>3</td>\n",
       "      <td>1</td>\n",
       "      <td>6</td>\n",
       "      <td>3</td>\n",
       "      <td>-9</td>\n",
       "      <td>-9</td>\n",
       "      <td>-9</td>\n",
       "      <td>4</td>\n",
       "    </tr>\n",
       "  </tbody>\n",
       "</table>\n",
       "</div>"
      ],
      "text/plain": [
       "            Region Residence Type Family Composition Population Base Sex Age  \\\n",
       "7623679  E12000002              H                  1               1   2   8   \n",
       "7942794  W92000004              H                  1               1   1   4   \n",
       "7893106  E12000007              H                  3               1   1   2   \n",
       "\n",
       "        Marital Status Student Country of Birth Health Ethnic Group Religion  \\\n",
       "7623679              5       2                1      3            1        2   \n",
       "7942794              4       2                1      2            1        1   \n",
       "7893106              1       2                1      3            1        6   \n",
       "\n",
       "        Economic Activity Occupation Industry Hours worked per week  \\\n",
       "7623679                 5          6       11                    -9   \n",
       "7942794                 1          2        2                     3   \n",
       "7893106                 3         -9       -9                    -9   \n",
       "\n",
       "        Approximated Social Grade  \n",
       "7623679                         4  \n",
       "7942794                         1  \n",
       "7893106                         4  "
      ]
     },
     "execution_count": 23,
     "metadata": {},
     "output_type": "execute_result"
    }
   ],
   "source": [
    "generator.fit(data.data)\n",
    "generator.generate(3)"
   ]
  },
  {
   "cell_type": "code",
   "execution_count": 24,
   "metadata": {},
   "outputs": [
    {
     "name": "stdout",
     "output_type": "stream",
     "text": [
      "\u001b[0;31mInit signature:\u001b[0m \u001b[0mtapas\u001b[0m\u001b[0;34m.\u001b[0m\u001b[0mgenerators\u001b[0m\u001b[0;34m.\u001b[0m\u001b[0mRaw\u001b[0m\u001b[0;34m(\u001b[0m\u001b[0;34m)\u001b[0m\u001b[0;34m\u001b[0m\u001b[0;34m\u001b[0m\u001b[0m\n",
      "\u001b[0;31mSource:\u001b[0m        \n",
      "\u001b[0;32mclass\u001b[0m \u001b[0mRaw\u001b[0m\u001b[0;34m(\u001b[0m\u001b[0mGenerator\u001b[0m\u001b[0;34m)\u001b[0m\u001b[0;34m:\u001b[0m\u001b[0;34m\u001b[0m\n",
      "\u001b[0;34m\u001b[0m    \u001b[0;34m\"\"\"This generator simply samples from the real data.\"\"\"\u001b[0m\u001b[0;34m\u001b[0m\n",
      "\u001b[0;34m\u001b[0m    \u001b[0;32mdef\u001b[0m \u001b[0m__init__\u001b[0m\u001b[0;34m(\u001b[0m\u001b[0mself\u001b[0m\u001b[0;34m)\u001b[0m\u001b[0;34m:\u001b[0m\u001b[0;34m\u001b[0m\n",
      "\u001b[0;34m\u001b[0m        \u001b[0msuper\u001b[0m\u001b[0;34m(\u001b[0m\u001b[0;34m)\u001b[0m\u001b[0;34m.\u001b[0m\u001b[0m__init__\u001b[0m\u001b[0;34m(\u001b[0m\u001b[0;34m)\u001b[0m\u001b[0;34m\u001b[0m\n",
      "\u001b[0;34m\u001b[0m\u001b[0;34m\u001b[0m\n",
      "\u001b[0;34m\u001b[0m    \u001b[0;32mdef\u001b[0m \u001b[0mfit\u001b[0m\u001b[0;34m(\u001b[0m\u001b[0mself\u001b[0m\u001b[0;34m,\u001b[0m \u001b[0mdataset\u001b[0m\u001b[0;34m)\u001b[0m\u001b[0;34m:\u001b[0m\u001b[0;34m\u001b[0m\n",
      "\u001b[0;34m\u001b[0m        \u001b[0mself\u001b[0m\u001b[0;34m.\u001b[0m\u001b[0mdataset\u001b[0m \u001b[0;34m=\u001b[0m \u001b[0mdataset\u001b[0m\u001b[0;34m\u001b[0m\n",
      "\u001b[0;34m\u001b[0m        \u001b[0mself\u001b[0m\u001b[0;34m.\u001b[0m\u001b[0mtrained\u001b[0m \u001b[0;34m=\u001b[0m \u001b[0;32mTrue\u001b[0m\u001b[0;34m\u001b[0m\n",
      "\u001b[0;34m\u001b[0m\u001b[0;34m\u001b[0m\n",
      "\u001b[0;34m\u001b[0m    \u001b[0;32mdef\u001b[0m \u001b[0mgenerate\u001b[0m\u001b[0;34m(\u001b[0m\u001b[0mself\u001b[0m\u001b[0;34m,\u001b[0m \u001b[0mnum_samples\u001b[0m \u001b[0;34m=\u001b[0m \u001b[0;32mNone\u001b[0m\u001b[0;34m,\u001b[0m \u001b[0mrandom_state\u001b[0m \u001b[0;34m=\u001b[0m \u001b[0;32mNone\u001b[0m\u001b[0;34m)\u001b[0m\u001b[0;34m:\u001b[0m\u001b[0;34m\u001b[0m\n",
      "\u001b[0;34m\u001b[0m        \u001b[0;32mif\u001b[0m \u001b[0mself\u001b[0m\u001b[0;34m.\u001b[0m\u001b[0mtrained\u001b[0m\u001b[0;34m:\u001b[0m \u001b[0;34m\u001b[0m\n",
      "\u001b[0;34m\u001b[0m            \u001b[0;32mif\u001b[0m \u001b[0mnum_samples\u001b[0m \u001b[0;32mis\u001b[0m \u001b[0;32mNone\u001b[0m\u001b[0;34m:\u001b[0m\u001b[0;34m\u001b[0m\n",
      "\u001b[0;34m\u001b[0m                \u001b[0;32mreturn\u001b[0m \u001b[0mself\u001b[0m\u001b[0;34m.\u001b[0m\u001b[0mdataset\u001b[0m\u001b[0;34m\u001b[0m\n",
      "\u001b[0;34m\u001b[0m            \u001b[0;32mreturn\u001b[0m \u001b[0mself\u001b[0m\u001b[0;34m.\u001b[0m\u001b[0mdataset\u001b[0m\u001b[0;34m.\u001b[0m\u001b[0msample\u001b[0m\u001b[0;34m(\u001b[0m\u001b[0mnum_samples\u001b[0m\u001b[0;34m,\u001b[0m \u001b[0mrandom_state\u001b[0m \u001b[0;34m=\u001b[0m \u001b[0mrandom_state\u001b[0m\u001b[0;34m)\u001b[0m\u001b[0;34m\u001b[0m\n",
      "\u001b[0;34m\u001b[0m        \u001b[0;32melse\u001b[0m\u001b[0;34m:\u001b[0m\u001b[0;34m\u001b[0m\n",
      "\u001b[0;34m\u001b[0m            \u001b[0;32mraise\u001b[0m \u001b[0mRuntimeError\u001b[0m\u001b[0;34m(\u001b[0m\u001b[0;34m\"No dataset provided to generator\"\u001b[0m\u001b[0;34m)\u001b[0m\u001b[0;34m\u001b[0m\n",
      "\u001b[0;34m\u001b[0m        \u001b[0;34m\u001b[0m\n",
      "\u001b[0;34m\u001b[0m    \u001b[0;32mdef\u001b[0m \u001b[0m__call__\u001b[0m\u001b[0;34m(\u001b[0m\u001b[0mself\u001b[0m\u001b[0;34m,\u001b[0m \u001b[0mdataset\u001b[0m\u001b[0;34m,\u001b[0m \u001b[0mnum_samples\u001b[0m\u001b[0;34m,\u001b[0m \u001b[0mrandom_state\u001b[0m \u001b[0;34m=\u001b[0m \u001b[0;32mNone\u001b[0m\u001b[0;34m)\u001b[0m\u001b[0;34m:\u001b[0m\u001b[0;34m\u001b[0m\n",
      "\u001b[0;34m\u001b[0m        \u001b[0mself\u001b[0m\u001b[0;34m.\u001b[0m\u001b[0mfit\u001b[0m\u001b[0;34m(\u001b[0m\u001b[0mdataset\u001b[0m\u001b[0;34m)\u001b[0m\u001b[0;34m\u001b[0m\n",
      "\u001b[0;34m\u001b[0m        \u001b[0;32mreturn\u001b[0m \u001b[0mself\u001b[0m\u001b[0;34m.\u001b[0m\u001b[0mgenerate\u001b[0m\u001b[0;34m(\u001b[0m\u001b[0mnum_samples\u001b[0m\u001b[0;34m,\u001b[0m \u001b[0mrandom_state\u001b[0m \u001b[0;34m=\u001b[0m \u001b[0mrandom_state\u001b[0m\u001b[0;34m)\u001b[0m\u001b[0;34m\u001b[0m\n",
      "\u001b[0;34m\u001b[0m\u001b[0;34m\u001b[0m\n",
      "\u001b[0;34m\u001b[0m    \u001b[0;34m@\u001b[0m\u001b[0mproperty\u001b[0m\u001b[0;34m\u001b[0m\n",
      "\u001b[0;34m\u001b[0m    \u001b[0;32mdef\u001b[0m \u001b[0mlabel\u001b[0m\u001b[0;34m(\u001b[0m\u001b[0mself\u001b[0m\u001b[0;34m)\u001b[0m\u001b[0;34m:\u001b[0m\u001b[0;34m\u001b[0m\n",
      "\u001b[0;34m\u001b[0m        \u001b[0;32mreturn\u001b[0m \u001b[0;34m\"Raw\"\u001b[0m\u001b[0;34m\u001b[0m\u001b[0;34m\u001b[0m\u001b[0m\n",
      "\u001b[0;31mFile:\u001b[0m           ~/repositories/projects/GANS/explore-attacks/.venv/lib/python3.9/site-packages/tapas/generators/generator.py\n",
      "\u001b[0;31mType:\u001b[0m           ABCMeta\n",
      "\u001b[0;31mSubclasses:\u001b[0m     "
     ]
    }
   ],
   "source": [
    "dir(generator)\n",
    "generator.generate??\n",
    "tapas.generators.Raw??"
   ]
  },
  {
   "attachments": {},
   "cell_type": "markdown",
   "metadata": {},
   "source": [
    "Define attacker's knowledge about the data set "
   ]
  },
  {
   "cell_type": "code",
   "execution_count": 25,
   "metadata": {},
   "outputs": [],
   "source": [
    "data_knowledge = tapas.threat_models.AuxiliaryDataKnowledge(\n",
    "      data,\n",
    "      auxiliary_split=0.5,\n",
    "      num_training_records=5000\n",
    ")"
   ]
  },
  {
   "attachments": {},
   "cell_type": "markdown",
   "metadata": {},
   "source": [
    "Define knowledge about the generator"
   ]
  },
  {
   "cell_type": "code",
   "execution_count": 26,
   "metadata": {},
   "outputs": [],
   "source": [
    "sdg_knowledge = tapas.threat_models.BlackBoxKnowledge(\n",
    "    generator,\n",
    "    num_synthetic_records=5000,\n",
    ")"
   ]
  },
  {
   "attachments": {},
   "cell_type": "markdown",
   "metadata": {},
   "source": [
    "Define goal of the attacker: membership inference attack"
   ]
  },
  {
   "cell_type": "code",
   "execution_count": 27,
   "metadata": {},
   "outputs": [],
   "source": [
    "threat_model = tapas.threat_models.TargetedMIA(\n",
    "   attacker_knowledge_data=data_knowledge,\n",
    "   target_record=data.get_records([0]),\n",
    "   attacker_knowledge_generator=sdg_knowledge,\n",
    "   generate_pairs=True, # see API. SOURCE?\n",
    "   replace_target=True\n",
    ")"
   ]
  },
  {
   "attachments": {},
   "cell_type": "markdown",
   "metadata": {},
   "source": [
    "#### Attack"
   ]
  },
  {
   "cell_type": "code",
   "execution_count": 28,
   "metadata": {},
   "outputs": [],
   "source": [
    "attacker = tapas.attacks.GroundhogAttack()"
   ]
  },
  {
   "attachments": {},
   "cell_type": "markdown",
   "metadata": {},
   "source": [
    "This is equivalent to a particular instantiation of a larger class of attacks. The current code on the website does not work though."
   ]
  },
  {
   "cell_type": "code",
   "execution_count": 29,
   "metadata": {},
   "outputs": [
    {
     "ename": "ValueError",
     "evalue": "nan is not in list",
     "output_type": "error",
     "traceback": [
      "\u001b[0;31m---------------------------------------------------------------------------\u001b[0m",
      "\u001b[0;31mValueError\u001b[0m                                Traceback (most recent call last)",
      "Cell \u001b[0;32mIn[29], line 1\u001b[0m\n\u001b[0;32m----> 1\u001b[0m attacker\u001b[39m.\u001b[39;49mtrain(threat_model, num_samples\u001b[39m=\u001b[39;49m\u001b[39m1000\u001b[39;49m)\n",
      "File \u001b[0;32m~/repositories/projects/GANS/explore-attacks/.venv/lib/python3.9/site-packages/tapas/attacks/shadow_modelling.py:87\u001b[0m, in \u001b[0;36mShadowModellingAttack.train\u001b[0;34m(self, threat_model, num_samples)\u001b[0m\n\u001b[1;32m     84\u001b[0m synthetic_datasets, labels \u001b[39m=\u001b[39m threat_model\u001b[39m.\u001b[39mgenerate_training_samples(num_samples)\n\u001b[1;32m     86\u001b[0m \u001b[39m# Fit the classifier to the data.\u001b[39;00m\n\u001b[0;32m---> 87\u001b[0m \u001b[39mself\u001b[39;49m\u001b[39m.\u001b[39;49mclassifier\u001b[39m.\u001b[39;49mfit(synthetic_datasets, labels)\n\u001b[1;32m     88\u001b[0m \u001b[39mself\u001b[39m\u001b[39m.\u001b[39mtrained \u001b[39m=\u001b[39m \u001b[39mTrue\u001b[39;00m\n",
      "File \u001b[0;32m~/repositories/projects/GANS/explore-attacks/.venv/lib/python3.9/site-packages/tapas/attacks/set_classifiers.py:144\u001b[0m, in \u001b[0;36mFeatureBasedSetClassifier.fit\u001b[0;34m(self, datasets, labels)\u001b[0m\n\u001b[1;32m    143\u001b[0m \u001b[39mdef\u001b[39;00m \u001b[39mfit\u001b[39m(\u001b[39mself\u001b[39m, datasets: \u001b[39mlist\u001b[39m[Dataset], labels: \u001b[39mlist\u001b[39m[\u001b[39mint\u001b[39m]):\n\u001b[0;32m--> 144\u001b[0m     \u001b[39mself\u001b[39m\u001b[39m.\u001b[39mclassifier\u001b[39m.\u001b[39mfit(\u001b[39mself\u001b[39;49m\u001b[39m.\u001b[39;49mfeatures(datasets), labels)\n",
      "File \u001b[0;32m~/repositories/projects/GANS/explore-attacks/.venv/lib/python3.9/site-packages/tapas/attacks/set_classifiers.py:85\u001b[0m, in \u001b[0;36mSetFeature.__call__\u001b[0;34m(self, *args, **kwargs)\u001b[0m\n\u001b[1;32m     84\u001b[0m \u001b[39mdef\u001b[39;00m \u001b[39m__call__\u001b[39m(\u001b[39mself\u001b[39m, \u001b[39m*\u001b[39margs, \u001b[39m*\u001b[39m\u001b[39m*\u001b[39mkwargs):\n\u001b[0;32m---> 85\u001b[0m     \u001b[39mreturn\u001b[39;00m \u001b[39mself\u001b[39;49m\u001b[39m.\u001b[39;49mextract(\u001b[39m*\u001b[39;49margs, \u001b[39m*\u001b[39;49m\u001b[39m*\u001b[39;49mkwargs)\n",
      "File \u001b[0;32m~/repositories/projects/GANS/explore-attacks/.venv/lib/python3.9/site-packages/tapas/attacks/set_classifiers.py:108\u001b[0m, in \u001b[0;36mCombinedSetFeatures.extract\u001b[0;34m(self, dataset)\u001b[0m\n\u001b[1;32m    107\u001b[0m \u001b[39mdef\u001b[39;00m \u001b[39mextract\u001b[39m(\u001b[39mself\u001b[39m, dataset: Dataset) \u001b[39m-\u001b[39m\u001b[39m>\u001b[39m np\u001b[39m.\u001b[39marray:\n\u001b[0;32m--> 108\u001b[0m     \u001b[39mreturn\u001b[39;00m np\u001b[39m.\u001b[39mconcatenate([f\u001b[39m.\u001b[39mextract(dataset) \u001b[39mfor\u001b[39;00m f \u001b[39min\u001b[39;00m \u001b[39mself\u001b[39m\u001b[39m.\u001b[39mfeatures], axis\u001b[39m=\u001b[39m\u001b[39m1\u001b[39m)\n",
      "File \u001b[0;32m~/repositories/projects/GANS/explore-attacks/.venv/lib/python3.9/site-packages/tapas/attacks/set_classifiers.py:108\u001b[0m, in \u001b[0;36m<listcomp>\u001b[0;34m(.0)\u001b[0m\n\u001b[1;32m    107\u001b[0m \u001b[39mdef\u001b[39;00m \u001b[39mextract\u001b[39m(\u001b[39mself\u001b[39m, dataset: Dataset) \u001b[39m-\u001b[39m\u001b[39m>\u001b[39m np\u001b[39m.\u001b[39marray:\n\u001b[0;32m--> 108\u001b[0m     \u001b[39mreturn\u001b[39;00m np\u001b[39m.\u001b[39mconcatenate([f\u001b[39m.\u001b[39;49mextract(dataset) \u001b[39mfor\u001b[39;00m f \u001b[39min\u001b[39;00m \u001b[39mself\u001b[39m\u001b[39m.\u001b[39mfeatures], axis\u001b[39m=\u001b[39m\u001b[39m1\u001b[39m)\n",
      "File \u001b[0;32m~/repositories/projects/GANS/explore-attacks/.venv/lib/python3.9/site-packages/tapas/attacks/set_classifiers.py:108\u001b[0m, in \u001b[0;36mCombinedSetFeatures.extract\u001b[0;34m(self, dataset)\u001b[0m\n\u001b[1;32m    107\u001b[0m \u001b[39mdef\u001b[39;00m \u001b[39mextract\u001b[39m(\u001b[39mself\u001b[39m, dataset: Dataset) \u001b[39m-\u001b[39m\u001b[39m>\u001b[39m np\u001b[39m.\u001b[39marray:\n\u001b[0;32m--> 108\u001b[0m     \u001b[39mreturn\u001b[39;00m np\u001b[39m.\u001b[39mconcatenate([f\u001b[39m.\u001b[39mextract(dataset) \u001b[39mfor\u001b[39;00m f \u001b[39min\u001b[39;00m \u001b[39mself\u001b[39m\u001b[39m.\u001b[39mfeatures], axis\u001b[39m=\u001b[39m\u001b[39m1\u001b[39m)\n",
      "File \u001b[0;32m~/repositories/projects/GANS/explore-attacks/.venv/lib/python3.9/site-packages/tapas/attacks/set_classifiers.py:108\u001b[0m, in \u001b[0;36m<listcomp>\u001b[0;34m(.0)\u001b[0m\n\u001b[1;32m    107\u001b[0m \u001b[39mdef\u001b[39;00m \u001b[39mextract\u001b[39m(\u001b[39mself\u001b[39m, dataset: Dataset) \u001b[39m-\u001b[39m\u001b[39m>\u001b[39m np\u001b[39m.\u001b[39marray:\n\u001b[0;32m--> 108\u001b[0m     \u001b[39mreturn\u001b[39;00m np\u001b[39m.\u001b[39mconcatenate([f\u001b[39m.\u001b[39;49mextract(dataset) \u001b[39mfor\u001b[39;00m f \u001b[39min\u001b[39;00m \u001b[39mself\u001b[39m\u001b[39m.\u001b[39mfeatures], axis\u001b[39m=\u001b[39m\u001b[39m1\u001b[39m)\n",
      "File \u001b[0;32m~/repositories/projects/GANS/explore-attacks/.venv/lib/python3.9/site-packages/tapas/attacks/set_classifiers.py:174\u001b[0m, in \u001b[0;36mNaiveSetFeature.extract\u001b[0;34m(self, datasets)\u001b[0m\n\u001b[1;32m    173\u001b[0m \u001b[39mdef\u001b[39;00m \u001b[39mextract\u001b[39m(\u001b[39mself\u001b[39m, datasets: \u001b[39mlist\u001b[39m[TabularDataset]) \u001b[39m-\u001b[39m\u001b[39m>\u001b[39m np\u001b[39m.\u001b[39marray:\n\u001b[0;32m--> 174\u001b[0m     np_data \u001b[39m=\u001b[39m [dataset\u001b[39m.\u001b[39mas_numeric \u001b[39mfor\u001b[39;00m dataset \u001b[39min\u001b[39;00m datasets]\n\u001b[1;32m    175\u001b[0m     \u001b[39mreturn\u001b[39;00m np\u001b[39m.\u001b[39mstack(\n\u001b[1;32m    176\u001b[0m         [\n\u001b[1;32m    177\u001b[0m             np\u001b[39m.\u001b[39mconcatenate(\n\u001b[0;32m   (...)\u001b[0m\n\u001b[1;32m    185\u001b[0m         ]\n\u001b[1;32m    186\u001b[0m     )\n",
      "File \u001b[0;32m~/repositories/projects/GANS/explore-attacks/.venv/lib/python3.9/site-packages/tapas/attacks/set_classifiers.py:174\u001b[0m, in \u001b[0;36m<listcomp>\u001b[0;34m(.0)\u001b[0m\n\u001b[1;32m    173\u001b[0m \u001b[39mdef\u001b[39;00m \u001b[39mextract\u001b[39m(\u001b[39mself\u001b[39m, datasets: \u001b[39mlist\u001b[39m[TabularDataset]) \u001b[39m-\u001b[39m\u001b[39m>\u001b[39m np\u001b[39m.\u001b[39marray:\n\u001b[0;32m--> 174\u001b[0m     np_data \u001b[39m=\u001b[39m [dataset\u001b[39m.\u001b[39;49mas_numeric \u001b[39mfor\u001b[39;00m dataset \u001b[39min\u001b[39;00m datasets]\n\u001b[1;32m    175\u001b[0m     \u001b[39mreturn\u001b[39;00m np\u001b[39m.\u001b[39mstack(\n\u001b[1;32m    176\u001b[0m         [\n\u001b[1;32m    177\u001b[0m             np\u001b[39m.\u001b[39mconcatenate(\n\u001b[0;32m   (...)\u001b[0m\n\u001b[1;32m    185\u001b[0m         ]\n\u001b[1;32m    186\u001b[0m     )\n",
      "File \u001b[0;32m~/repositories/projects/GANS/explore-attacks/.venv/lib/python3.9/site-packages/tapas/datasets/dataset.py:558\u001b[0m, in \u001b[0;36mTabularDataset.as_numeric\u001b[0;34m(self)\u001b[0m\n\u001b[1;32m    542\u001b[0m \u001b[39m@property\u001b[39m\n\u001b[1;32m    543\u001b[0m \u001b[39mdef\u001b[39;00m \u001b[39mas_numeric\u001b[39m(\u001b[39mself\u001b[39m):\n\u001b[1;32m    544\u001b[0m \u001b[39m    \u001b[39m\u001b[39m\"\"\"\u001b[39;00m\n\u001b[1;32m    545\u001b[0m \u001b[39m    Encodes this dataset as a np.array, where numeric values are kept as is\u001b[39;00m\n\u001b[1;32m    546\u001b[0m \u001b[39m    and categorical values are 1-hot encoded. This is only computed once\u001b[39;00m\n\u001b[0;32m   (...)\u001b[0m\n\u001b[1;32m    556\u001b[0m \n\u001b[1;32m    557\u001b[0m \u001b[39m    \"\"\"\u001b[39;00m\n\u001b[0;32m--> 558\u001b[0m     \u001b[39mreturn\u001b[39;00m encode_data(\u001b[39mself\u001b[39;49m)\n",
      "File \u001b[0;32m~/repositories/projects/GANS/explore-attacks/.venv/lib/python3.9/site-packages/tapas/datasets/utils.py:79\u001b[0m, in \u001b[0;36mencode_data\u001b[0;34m(dataset, infer_ranges)\u001b[0m\n\u001b[1;32m     76\u001b[0m \u001b[39melse\u001b[39;00m:\n\u001b[1;32m     77\u001b[0m     col_cats \u001b[39m=\u001b[39m d_repr\n\u001b[0;32m---> 79\u001b[0m col_data_onehot \u001b[39m=\u001b[39m one_hot(col_data, col_cats)\n\u001b[1;32m     80\u001b[0m encoded_data[:, cidx : cidx \u001b[39m+\u001b[39m \u001b[39mlen\u001b[39m(col_cats)] \u001b[39m=\u001b[39m col_data_onehot\n\u001b[1;32m     82\u001b[0m cidx \u001b[39m+\u001b[39m\u001b[39m=\u001b[39m \u001b[39mlen\u001b[39m(col_cats)\n",
      "File \u001b[0;32m~/repositories/projects/GANS/explore-attacks/.venv/lib/python3.9/site-packages/tapas/datasets/utils.py:101\u001b[0m, in \u001b[0;36mone_hot\u001b[0;34m(col_data, categories)\u001b[0m\n\u001b[1;32m     99\u001b[0m \u001b[39mdef\u001b[39;00m \u001b[39mone_hot\u001b[39m(col_data, categories):\n\u001b[1;32m    100\u001b[0m     col_data_onehot \u001b[39m=\u001b[39m np\u001b[39m.\u001b[39mzeros((\u001b[39mlen\u001b[39m(col_data), \u001b[39mlen\u001b[39m(categories)))\n\u001b[0;32m--> 101\u001b[0m     cidx \u001b[39m=\u001b[39m [categories\u001b[39m.\u001b[39mindex(c) \u001b[39mfor\u001b[39;00m c \u001b[39min\u001b[39;00m col_data]\n\u001b[1;32m    102\u001b[0m     col_data_onehot[np\u001b[39m.\u001b[39marange(\u001b[39mlen\u001b[39m(col_data)), cidx] \u001b[39m=\u001b[39m \u001b[39m1\u001b[39m\n\u001b[1;32m    104\u001b[0m     \u001b[39mreturn\u001b[39;00m col_data_onehot\n",
      "File \u001b[0;32m~/repositories/projects/GANS/explore-attacks/.venv/lib/python3.9/site-packages/tapas/datasets/utils.py:101\u001b[0m, in \u001b[0;36m<listcomp>\u001b[0;34m(.0)\u001b[0m\n\u001b[1;32m     99\u001b[0m \u001b[39mdef\u001b[39;00m \u001b[39mone_hot\u001b[39m(col_data, categories):\n\u001b[1;32m    100\u001b[0m     col_data_onehot \u001b[39m=\u001b[39m np\u001b[39m.\u001b[39mzeros((\u001b[39mlen\u001b[39m(col_data), \u001b[39mlen\u001b[39m(categories)))\n\u001b[0;32m--> 101\u001b[0m     cidx \u001b[39m=\u001b[39m [categories\u001b[39m.\u001b[39;49mindex(c) \u001b[39mfor\u001b[39;00m c \u001b[39min\u001b[39;00m col_data]\n\u001b[1;32m    102\u001b[0m     col_data_onehot[np\u001b[39m.\u001b[39marange(\u001b[39mlen\u001b[39m(col_data)), cidx] \u001b[39m=\u001b[39m \u001b[39m1\u001b[39m\n\u001b[1;32m    104\u001b[0m     \u001b[39mreturn\u001b[39;00m col_data_onehot\n",
      "\u001b[0;31mValueError\u001b[0m: nan is not in list"
     ]
    }
   ],
   "source": [
    "attacker.train(threat_model, num_samples=1000)"
   ]
  },
  {
   "cell_type": "code",
   "execution_count": null,
   "metadata": {},
   "outputs": [],
   "source": []
  },
  {
   "attachments": {},
   "cell_type": "markdown",
   "metadata": {},
   "source": [
    "Issues\n",
    "- sklearn? -- but I used a different approach from what they recommend\n",
    "- instantiating the attack as a special case of a general attack\n",
    "- `attacker.train()`"
   ]
  }
 ],
 "metadata": {
  "kernelspec": {
   "display_name": ".venv",
   "language": "python",
   "name": "python3"
  },
  "language_info": {
   "codemirror_mode": {
    "name": "ipython",
    "version": 3
   },
   "file_extension": ".py",
   "mimetype": "text/x-python",
   "name": "python",
   "nbconvert_exporter": "python",
   "pygments_lexer": "ipython3",
   "version": "3.9.5"
  },
  "orig_nbformat": 4
 },
 "nbformat": 4,
 "nbformat_minor": 2
}
