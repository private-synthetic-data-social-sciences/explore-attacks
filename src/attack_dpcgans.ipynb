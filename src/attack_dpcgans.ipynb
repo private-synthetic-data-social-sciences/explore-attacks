{
 "cells": [
  {
   "attachments": {},
   "cell_type": "markdown",
   "metadata": {},
   "source": [
    "Run some attacks on DP-CGANS"
   ]
  },
  {
   "cell_type": "code",
   "execution_count": 36,
   "metadata": {},
   "outputs": [],
   "source": [
    "import pandas as pd \n",
    "import os \n",
    "import tapas.datasets\n",
    "import tapas.generators\n",
    "import json I do not unde\n"
   ]
  },
  {
   "cell_type": "code",
   "execution_count": 37,
   "metadata": {},
   "outputs": [],
   "source": [
    "datapath = \"../datasets\"\n",
    "dataset_name = \"Adult\"\n",
    "model_name = \"DPCGANS\"\n",
    "file = f\"Real/real_{dataset_name.lower()}_data.csv\""
   ]
  },
  {
   "cell_type": "code",
   "execution_count": 38,
   "metadata": {},
   "outputs": [],
   "source": [
    "df = pd.read_csv(os.path.join(datapath, dataset_name, file), index_col=0)"
   ]
  },
  {
   "cell_type": "code",
   "execution_count": 39,
   "metadata": {},
   "outputs": [
    {
     "data": {
      "text/html": [
       "<div>\n",
       "<style scoped>\n",
       "    .dataframe tbody tr th:only-of-type {\n",
       "        vertical-align: middle;\n",
       "    }\n",
       "\n",
       "    .dataframe tbody tr th {\n",
       "        vertical-align: top;\n",
       "    }\n",
       "\n",
       "    .dataframe thead th {\n",
       "        text-align: right;\n",
       "    }\n",
       "</style>\n",
       "<table border=\"1\" class=\"dataframe\">\n",
       "  <thead>\n",
       "    <tr style=\"text-align: right;\">\n",
       "      <th></th>\n",
       "      <th>age</th>\n",
       "      <th>workclass</th>\n",
       "      <th>fnlwgt</th>\n",
       "      <th>education</th>\n",
       "      <th>education-num</th>\n",
       "      <th>marital-status</th>\n",
       "      <th>occupation</th>\n",
       "      <th>relationship</th>\n",
       "      <th>race</th>\n",
       "      <th>sex</th>\n",
       "      <th>capital-gain</th>\n",
       "      <th>capital-loss</th>\n",
       "      <th>hours-per-week</th>\n",
       "      <th>native-country</th>\n",
       "      <th>label</th>\n",
       "    </tr>\n",
       "  </thead>\n",
       "  <tbody>\n",
       "    <tr>\n",
       "      <th>0</th>\n",
       "      <td>27</td>\n",
       "      <td>Private</td>\n",
       "      <td>177119</td>\n",
       "      <td>Some-college</td>\n",
       "      <td>10</td>\n",
       "      <td>Divorced</td>\n",
       "      <td>Adm-clerical</td>\n",
       "      <td>Unmarried</td>\n",
       "      <td>White</td>\n",
       "      <td>Female</td>\n",
       "      <td>0</td>\n",
       "      <td>0</td>\n",
       "      <td>44</td>\n",
       "      <td>United-States</td>\n",
       "      <td>&lt;=50K</td>\n",
       "    </tr>\n",
       "    <tr>\n",
       "      <th>1</th>\n",
       "      <td>27</td>\n",
       "      <td>Private</td>\n",
       "      <td>216481</td>\n",
       "      <td>Bachelors</td>\n",
       "      <td>13</td>\n",
       "      <td>Never-married</td>\n",
       "      <td>Prof-specialty</td>\n",
       "      <td>Not-in-family</td>\n",
       "      <td>White</td>\n",
       "      <td>Female</td>\n",
       "      <td>0</td>\n",
       "      <td>0</td>\n",
       "      <td>40</td>\n",
       "      <td>United-States</td>\n",
       "      <td>&lt;=50K</td>\n",
       "    </tr>\n",
       "    <tr>\n",
       "      <th>2</th>\n",
       "      <td>25</td>\n",
       "      <td>Private</td>\n",
       "      <td>256263</td>\n",
       "      <td>Assoc-acdm</td>\n",
       "      <td>12</td>\n",
       "      <td>Married-civ-spouse</td>\n",
       "      <td>Sales</td>\n",
       "      <td>Husband</td>\n",
       "      <td>White</td>\n",
       "      <td>Male</td>\n",
       "      <td>0</td>\n",
       "      <td>0</td>\n",
       "      <td>40</td>\n",
       "      <td>United-States</td>\n",
       "      <td>&lt;=50K</td>\n",
       "    </tr>\n",
       "    <tr>\n",
       "      <th>3</th>\n",
       "      <td>46</td>\n",
       "      <td>Private</td>\n",
       "      <td>147640</td>\n",
       "      <td>5th-6th</td>\n",
       "      <td>3</td>\n",
       "      <td>Married-civ-spouse</td>\n",
       "      <td>Transport-moving</td>\n",
       "      <td>Husband</td>\n",
       "      <td>Amer-Indian-Eskimo</td>\n",
       "      <td>Male</td>\n",
       "      <td>0</td>\n",
       "      <td>1902</td>\n",
       "      <td>40</td>\n",
       "      <td>United-States</td>\n",
       "      <td>&lt;=50K</td>\n",
       "    </tr>\n",
       "    <tr>\n",
       "      <th>4</th>\n",
       "      <td>45</td>\n",
       "      <td>Private</td>\n",
       "      <td>172822</td>\n",
       "      <td>11th</td>\n",
       "      <td>7</td>\n",
       "      <td>Divorced</td>\n",
       "      <td>Transport-moving</td>\n",
       "      <td>Not-in-family</td>\n",
       "      <td>White</td>\n",
       "      <td>Male</td>\n",
       "      <td>0</td>\n",
       "      <td>2824</td>\n",
       "      <td>76</td>\n",
       "      <td>United-States</td>\n",
       "      <td>&gt;50K</td>\n",
       "    </tr>\n",
       "  </tbody>\n",
       "</table>\n",
       "</div>"
      ],
      "text/plain": [
       "   age workclass  fnlwgt     education  education-num      marital-status  \\\n",
       "0   27   Private  177119  Some-college             10            Divorced   \n",
       "1   27   Private  216481     Bachelors             13       Never-married   \n",
       "2   25   Private  256263    Assoc-acdm             12  Married-civ-spouse   \n",
       "3   46   Private  147640       5th-6th              3  Married-civ-spouse   \n",
       "4   45   Private  172822          11th              7            Divorced   \n",
       "\n",
       "         occupation   relationship                race     sex  capital-gain  \\\n",
       "0      Adm-clerical      Unmarried               White  Female             0   \n",
       "1    Prof-specialty  Not-in-family               White  Female             0   \n",
       "2             Sales        Husband               White    Male             0   \n",
       "3  Transport-moving        Husband  Amer-Indian-Eskimo    Male             0   \n",
       "4  Transport-moving  Not-in-family               White    Male             0   \n",
       "\n",
       "   capital-loss  hours-per-week native-country  label  \n",
       "0             0              44  United-States  <=50K  \n",
       "1             0              40  United-States  <=50K  \n",
       "2             0              40  United-States  <=50K  \n",
       "3          1902              40  United-States  <=50K  \n",
       "4          2824              76  United-States   >50K  "
      ]
     },
     "execution_count": 39,
     "metadata": {},
     "output_type": "execute_result"
    }
   ],
   "source": [
    "df.head()"
   ]
  },
  {
   "cell_type": "code",
   "execution_count": 40,
   "metadata": {},
   "outputs": [
    {
     "data": {
      "text/plain": [
       "array([177119, 216481, 256263, ...,  45317, 215862, 186925])"
      ]
     },
     "execution_count": 40,
     "metadata": {},
     "output_type": "execute_result"
    }
   ],
   "source": [
    "var = \"fnlwgt\"\n",
    "df[var].unique()"
   ]
  },
  {
   "attachments": {},
   "cell_type": "markdown",
   "metadata": {},
   "source": [
    "I created a json file with the data schema in `data_schemas/adult.json`. I am not sure about all the \"countable\" data types, but none of the input data seems continuous/to have decimals. See the tapas documentation: https://privacy-sdg-toolbox.readthedocs.io/en/latest/dataset-schema.html"
   ]
  },
  {
   "cell_type": "code",
   "execution_count": 41,
   "metadata": {},
   "outputs": [],
   "source": [
    "with open('data_schemas/adult.json') as file:\n",
    "    # Load the JSON data into a dictionary\n",
    "    data_schema = json.load(file)\n"
   ]
  },
  {
   "cell_type": "code",
   "execution_count": 42,
   "metadata": {},
   "outputs": [],
   "source": [
    "data_description = tapas.datasets.DataDescription(schema=data_schema)\n",
    "data = tapas.datasets.TabularDataset(data=df, description=data_description)"
   ]
  },
  {
   "cell_type": "code",
   "execution_count": 43,
   "metadata": {},
   "outputs": [],
   "source": [
    "generator = tapas.generators.GeneratorFromExecutable(exe=\"src/generator_from_dataset.py\")\n",
    "generator.fit(data)"
   ]
  },
  {
   "cell_type": "code",
   "execution_count": 44,
   "metadata": {},
   "outputs": [],
   "source": [
    "synthetic_data = generator.generate(2000)"
   ]
  },
  {
   "attachments": {},
   "cell_type": "markdown",
   "metadata": {},
   "source": [
    "### Run an attack"
   ]
  },
  {
   "attachments": {},
   "cell_type": "markdown",
   "metadata": {},
   "source": [
    "import tapas.datasets\n",
    "import tapas.generators\n",
    "import tapas.threat_models\n",
    "import tapas.attacks\n",
    "import tapas.report"
   ]
  },
  {
   "cell_type": "code",
   "execution_count": 45,
   "metadata": {},
   "outputs": [],
   "source": [
    "import tapas.datasets\n",
    "import tapas.generators\n",
    "import tapas.threat_models\n",
    "import tapas.attacks\n",
    "import tapas.report"
   ]
  },
  {
   "cell_type": "code",
   "execution_count": 46,
   "metadata": {},
   "outputs": [],
   "source": [
    "data_knowledge = tapas.threat_models.AuxiliaryDataKnowledge(\n",
    "      data,\n",
    "      auxiliary_split=0.5,\n",
    "      num_training_records=5000\n",
    ")\n",
    "sdg_knowledge = tapas.threat_models.BlackBoxKnowledge(\n",
    "    generator,\n",
    "    num_synthetic_records=5000,\n",
    ")"
   ]
  },
  {
   "cell_type": "code",
   "execution_count": 47,
   "metadata": {},
   "outputs": [],
   "source": [
    "threat_model = tapas.threat_models.TargetedMIA(\n",
    "   attacker_knowledge_data=data_knowledge,\n",
    "   target_record=data.get_records(range(50)),\n",
    "   attacker_knowledge_generator=sdg_knowledge,\n",
    "   generate_pairs=True,\n",
    "   replace_target=True\n",
    ")"
   ]
  },
  {
   "attachments": {},
   "cell_type": "markdown",
   "metadata": {},
   "source": [
    "### Closest distance MIA"
   ]
  },
  {
   "cell_type": "code",
   "execution_count": 48,
   "metadata": {},
   "outputs": [
    {
     "name": "stderr",
     "output_type": "stream",
     "text": [
      "/home/flavio/repositories/projects/GANS/explore-attacks/.venv/lib/python3.9/site-packages/tapas/report/attack_summary.py:250: RuntimeWarning: invalid value encountered in divide\n",
      "  return np.log(max(np.max(tp/fp), np.max((1-fp)/(1-tp))))\n"
     ]
    }
   ],
   "source": [
    "attacker = tapas.attacks.ClosestDistanceMIA()\n",
    "attacker.train(threat_model, num_samples=10)\n",
    "attack_summary = threat_model.test(attacker, num_samples=100)\n",
    "metrics = attack_summary.get_metrics()\n"
   ]
  },
  {
   "cell_type": "code",
   "execution_count": 49,
   "metadata": {},
   "outputs": [
    {
     "data": {
      "text/html": [
       "<div>\n",
       "<style scoped>\n",
       "    .dataframe tbody tr th:only-of-type {\n",
       "        vertical-align: middle;\n",
       "    }\n",
       "\n",
       "    .dataframe tbody tr th {\n",
       "        vertical-align: top;\n",
       "    }\n",
       "\n",
       "    .dataframe thead th {\n",
       "        text-align: right;\n",
       "    }\n",
       "</style>\n",
       "<table border=\"1\" class=\"dataframe\">\n",
       "  <thead>\n",
       "    <tr style=\"text-align: right;\">\n",
       "      <th></th>\n",
       "      <th>dataset</th>\n",
       "      <th>target_id</th>\n",
       "      <th>generator</th>\n",
       "      <th>attack</th>\n",
       "      <th>accuracy</th>\n",
       "      <th>true_positive_rate</th>\n",
       "      <th>false_positive_rate</th>\n",
       "      <th>mia_advantage</th>\n",
       "      <th>privacy_gain</th>\n",
       "      <th>auc</th>\n",
       "      <th>effective_epsilon</th>\n",
       "    </tr>\n",
       "  </thead>\n",
       "  <tbody>\n",
       "    <tr>\n",
       "      <th>0</th>\n",
       "      <td>Unnamed dataset (AUX)</td>\n",
       "      <td>0</td>\n",
       "      <td>src/generator_from_dataset.py</td>\n",
       "      <td>ClosestDistance(Hamming, accuracy)</td>\n",
       "      <td>0.5</td>\n",
       "      <td>0.0</td>\n",
       "      <td>0.0</td>\n",
       "      <td>0.0</td>\n",
       "      <td>1.0</td>\n",
       "      <td>0.5</td>\n",
       "      <td>0.0</td>\n",
       "    </tr>\n",
       "  </tbody>\n",
       "</table>\n",
       "</div>"
      ],
      "text/plain": [
       "                 dataset target_id                      generator  \\\n",
       "0  Unnamed dataset (AUX)         0  src/generator_from_dataset.py   \n",
       "\n",
       "                               attack  accuracy  true_positive_rate  \\\n",
       "0  ClosestDistance(Hamming, accuracy)       0.5                 0.0   \n",
       "\n",
       "   false_positive_rate  mia_advantage  privacy_gain  auc  effective_epsilon  \n",
       "0                  0.0            0.0           1.0  0.5                0.0  "
      ]
     },
     "execution_count": 49,
     "metadata": {},
     "output_type": "execute_result"
    }
   ],
   "source": [
    "metrics.head()"
   ]
  },
  {
   "attachments": {},
   "cell_type": "markdown",
   "metadata": {},
   "source": [
    "### Local neighborhood attack\n",
    "\n",
    "It is important to re-define the threat model; otherwise I think it takes the existing trained model from above."
   ]
  },
  {
   "cell_type": "code",
   "execution_count": 51,
   "metadata": {},
   "outputs": [],
   "source": [
    "threat_model = tapas.threat_models.TargetedMIA(\n",
    "   attacker_knowledge_data=data_knowledge,\n",
    "   target_record=data.get_records(range(50)),\n",
    "   attacker_knowledge_generator=sdg_knowledge,\n",
    "   generate_pairs=True,\n",
    "   replace_target=True\n",
    ")"
   ]
  },
  {
   "cell_type": "code",
   "execution_count": 52,
   "metadata": {},
   "outputs": [
    {
     "name": "stderr",
     "output_type": "stream",
     "text": [
      "/home/flavio/repositories/projects/GANS/explore-attacks/.venv/lib/python3.9/site-packages/tapas/report/attack_summary.py:250: RuntimeWarning: invalid value encountered in divide\n",
      "  return np.log(max(np.max(tp/fp), np.max((1-fp)/(1-tp))))\n"
     ]
    }
   ],
   "source": [
    "attacker = tapas.attacks.LocalNeighbourhoodAttack()\n",
    "attacker.train(threat_model, num_samples=10)\n",
    "attack_summary = threat_model.test(attacker, num_samples=100)\n",
    "metrics = attack_summary.get_metrics()"
   ]
  },
  {
   "cell_type": "code",
   "execution_count": 53,
   "metadata": {},
   "outputs": [
    {
     "data": {
      "text/html": [
       "<div>\n",
       "<style scoped>\n",
       "    .dataframe tbody tr th:only-of-type {\n",
       "        vertical-align: middle;\n",
       "    }\n",
       "\n",
       "    .dataframe tbody tr th {\n",
       "        vertical-align: top;\n",
       "    }\n",
       "\n",
       "    .dataframe thead th {\n",
       "        text-align: right;\n",
       "    }\n",
       "</style>\n",
       "<table border=\"1\" class=\"dataframe\">\n",
       "  <thead>\n",
       "    <tr style=\"text-align: right;\">\n",
       "      <th></th>\n",
       "      <th>dataset</th>\n",
       "      <th>target_id</th>\n",
       "      <th>generator</th>\n",
       "      <th>attack</th>\n",
       "      <th>accuracy</th>\n",
       "      <th>true_positive_rate</th>\n",
       "      <th>false_positive_rate</th>\n",
       "      <th>mia_advantage</th>\n",
       "      <th>privacy_gain</th>\n",
       "      <th>auc</th>\n",
       "      <th>effective_epsilon</th>\n",
       "    </tr>\n",
       "  </thead>\n",
       "  <tbody>\n",
       "    <tr>\n",
       "      <th>0</th>\n",
       "      <td>Unnamed dataset (AUX)</td>\n",
       "      <td>0</td>\n",
       "      <td>src/generator_from_dataset.py</td>\n",
       "      <td>LocalNeighbourhood(Hamming, 1, accuracy)</td>\n",
       "      <td>0.5</td>\n",
       "      <td>0.0</td>\n",
       "      <td>0.0</td>\n",
       "      <td>0.0</td>\n",
       "      <td>1.0</td>\n",
       "      <td>0.5</td>\n",
       "      <td>0.0</td>\n",
       "    </tr>\n",
       "  </tbody>\n",
       "</table>\n",
       "</div>"
      ],
      "text/plain": [
       "                 dataset target_id                      generator  \\\n",
       "0  Unnamed dataset (AUX)         0  src/generator_from_dataset.py   \n",
       "\n",
       "                                     attack  accuracy  true_positive_rate  \\\n",
       "0  LocalNeighbourhood(Hamming, 1, accuracy)       0.5                 0.0   \n",
       "\n",
       "   false_positive_rate  mia_advantage  privacy_gain  auc  effective_epsilon  \n",
       "0                  0.0            0.0           1.0  0.5                0.0  "
      ]
     },
     "execution_count": 53,
     "metadata": {},
     "output_type": "execute_result"
    }
   ],
   "source": [
    "metrics.head()"
   ]
  },
  {
   "attachments": {},
   "cell_type": "markdown",
   "metadata": {},
   "source": [
    "It works mechanically, but it is unclear what is going on:\n",
    "- one row per data set \n",
    "- TPR, FPR are 0. why?\n",
    "- does it matter whether the generated data are deterministic when reading from a file? \n",
    "- difficult to understand the outputs above. need a better understanding\n",
    "    - of the attacks: how do they work, what do they need, what are their assumptions\n",
    "    - of the library: understand in more details how the library implements attacks\n"
   ]
  }
 ],
 "metadata": {
  "kernelspec": {
   "display_name": ".venv",
   "language": "python",
   "name": "python3"
  },
  "language_info": {
   "codemirror_mode": {
    "name": "ipython",
    "version": 3
   },
   "file_extension": ".py",
   "mimetype": "text/x-python",
   "name": "python",
   "nbconvert_exporter": "python",
   "pygments_lexer": "ipython3",
   "version": "3.9.5"
  },
  "orig_nbformat": 4
 },
 "nbformat": 4,
 "nbformat_minor": 2
}
